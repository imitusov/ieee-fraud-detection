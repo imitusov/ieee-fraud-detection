{
  "nbformat": 4,
  "nbformat_minor": 0,
  "metadata": {
    "colab": {
      "name": "Untitled0.ipynb",
      "provenance": [],
      "collapsed_sections": [
        "7dqzfc-xMKxc",
        "VZpJSvRYK35G",
        "hDIXkUstZx5F",
        "GeMTaJ0kFGLM",
        "yb67-C4DCS4Q",
        "s30JOSKURGRr",
        "qw4eEwLPRCTW",
        "Zi7bJd0bc6bw",
        "syVpo1yM0nmJ",
        "8oVwiv6Y00J_",
        "vt0a2PQSGfSI",
        "XSChrRfkEuPu",
        "eIqmCareLwPz",
        "WR3cfcJGE0Ff",
        "iHoq_woxQZ1t",
        "rdAKWqamQVC5",
        "P7qj5AL7ZxCe",
        "kixmQkEJq8xb",
        "9T8fF971rOYT",
        "1hh8ZIWTZsXA",
        "U4wJKY4aZsXB",
        "IykHrGXyZsXL",
        "KaZF99TTZsXN",
        "5hL3YY_EZsXd"
      ],
      "machine_shape": "hm",
      "include_colab_link": true
    },
    "kernelspec": {
      "name": "python3",
      "display_name": "Python 3"
    }
  },
  "cells": [
    {
      "cell_type": "markdown",
      "metadata": {
        "id": "view-in-github",
        "colab_type": "text"
      },
      "source": [
        "<a href=\"https://colab.research.google.com/github/imitusov/ieee-fraud-detection/blob/master/ieee-fraud-detection.ipynb\" target=\"_parent\"><img src=\"https://colab.research.google.com/assets/colab-badge.svg\" alt=\"Open In Colab\"/></a>"
      ]
    },
    {
      "cell_type": "markdown",
      "metadata": {
        "id": "1cNA_CecZTof",
        "colab_type": "text"
      },
      "source": [
        "# Set up environemnt"
      ]
    },
    {
      "cell_type": "markdown",
      "metadata": {
        "id": "c8O-anIxq8pp",
        "colab_type": "text"
      },
      "source": [
        "\n",
        "**FUTURE POINTS**\n",
        "\n",
        "---\n",
        "**MODEL**\n",
        "* Domain mismatch, adversarial validation and 'get_object_importance' for CatBoost\n",
        "* Try different sampling approaches: undersampling or oversampling\n",
        "* Use several CV schemes\n",
        "* CV and public LB validation scores correlation graph\n",
        "* Apply different imputation strategies depending on share of missing values\n",
        "* Plot outliers indices that have been identified by different methods\n",
        "\n",
        "**CODE**\n",
        "* Decorator for NestedCrossValIntervals class"
      ]
    },
    {
      "cell_type": "code",
      "metadata": {
        "id": "klFE8SPOZDrk",
        "colab_type": "code",
        "colab": {}
      },
      "source": [
        "from IPython.display import clear_output\n",
        "%load_ext autoreload\n",
        "%autoreload 2\n",
        "%xmode Plain\n",
        "%pdb off\n",
        "clear_output()"
      ],
      "execution_count": 0,
      "outputs": []
    },
    {
      "cell_type": "code",
      "metadata": {
        "id": "jIlOwHY3ZGkt",
        "colab_type": "code",
        "colab": {}
      },
      "source": [
        "from google.colab import drive\n",
        "drive.mount('/content/gdrive')\n",
        "clear_output()"
      ],
      "execution_count": 0,
      "outputs": []
    },
    {
      "cell_type": "code",
      "metadata": {
        "id": "RKvZSm77ZL5t",
        "colab_type": "code",
        "colab": {}
      },
      "source": [
        "from google.colab import files\n",
        "uploaded = files.upload()\n",
        "clear_output()"
      ],
      "execution_count": 0,
      "outputs": []
    },
    {
      "cell_type": "code",
      "metadata": {
        "id": "KU4rhrItZOup",
        "colab_type": "code",
        "colab": {}
      },
      "source": [
        "!pip install -q kaggle\n",
        "!mkdir -p ~/.kaggle\n",
        "!cp kaggle.json ~/.kaggle/\n",
        "!ls ~/.kaggle\n",
        "!chmod 600 /root/.kaggle/kaggle.json \n",
        " \n",
        "!pip install -q imbalanced-learn # Different sampling techniques\n",
        "!pip install -q Boruta # Feature selection methods\n",
        "!pip install -q category_encoders # Target encdoing \n",
        "!pip install -q pydrive\n",
        "!pip install -q catboost\n",
        "!pip install -q bayesian-optimization \n",
        "!pip install -q datawig # NaN's imputation\n",
        "!pip install -q impyute # NaN's imputation\n",
        "!pip install -q missingno # Missing data visualization\n",
        "clear_output()"
      ],
      "execution_count": 0,
      "outputs": []
    },
    {
      "cell_type": "code",
      "metadata": {
        "id": "bxhzdFPDZSFB",
        "colab_type": "code",
        "colab": {}
      },
      "source": [
        "# Change root to target folder\n",
        "import os\n",
        "root_path = '/content/gdrive/My Drive/Colab Notebooks/IEEE (Kaggle)/'\n",
        "os.chdir(root_path)"
      ],
      "execution_count": 0,
      "outputs": []
    },
    {
      "cell_type": "markdown",
      "metadata": {
        "id": "bhZ0GZQgZliG",
        "colab_type": "text"
      },
      "source": [
        "## Upload data"
      ]
    },
    {
      "cell_type": "code",
      "metadata": {
        "id": "AkDz9hXZZc3V",
        "colab_type": "code",
        "outputId": "2b04bacb-ae0d-42cc-a690-cec8d3d0b49b",
        "colab": {
          "base_uri": "https://localhost:8080/",
          "height": 51
        }
      },
      "source": [
        "import warnings\n",
        "from sklearn.exceptions import DataConversionWarning\n",
        "warnings.simplefilter(action='ignore', category=FutureWarning)\n",
        "warnings.simplefilter(action='ignore', category=DataConversionWarning)\n",
        "warnings.filterwarnings('ignore')\n",
        "import os\n",
        "import random\n",
        "import imports\n",
        "import re\n",
        "from tqdm import tqdm\n",
        "from typing import List\n",
        "import dama as dm\n",
        "import numpy as np\n",
        "import scipy as sp\n",
        "import scipy.stats as sst\n",
        "import statsmodels as sm\n",
        "import pandas as pd\n",
        "import seaborn as sns\n",
        "import matplotlib.pyplot as plt\n",
        "import datawig\n",
        "import impyute\n",
        "import datetime\n",
        "import time\n",
        "import pickle\n",
        "import imblearn\n",
        "\n",
        "# Models\n",
        "from sklearn.svm import SVC\n",
        "from sklearn.discriminant_analysis import LinearDiscriminantAnalysis, QuadraticDiscriminantAnalysis\n",
        "from sklearn.ensemble import ExtraTreesRegressor, IsolationForest, RandomForestClassifier, AdaBoostClassifier\n",
        "from sklearn.neighbors import LocalOutlierFactor, KNeighborsClassifier\n",
        "from sklearn.naive_bayes import GaussianNB\n",
        "from sklearn.gaussian_process import GaussianProcessClassifier\n",
        "from sklearn.gaussian_process.kernels import RBF\n",
        "from sklearn.neural_network import MLPClassifier\n",
        "from sklearn.linear_model import LogisticRegression \n",
        "import catboost as ctb\n",
        "import lightgbm as lgb\n",
        "import xgboost as xgb\n",
        "\n",
        "# Preprocessing and feature creation\n",
        "from sklearn.experimental import enable_iterative_imputer\n",
        "from sklearn.impute import IterativeImputer\n",
        "from sklearn.linear_model import LassoCV, BayesianRidge, MultiTaskElasticNet, LogisticRegression\n",
        "from sklearn.cluster import KMeans, DBSCAN, MiniBatchKMeans, AgglomerativeClustering, SpectralClustering\n",
        "from sklearn.manifold import TSNE, LocallyLinearEmbedding\n",
        "from sklearn.model_selection import TimeSeriesSplit, cross_val_score,\\\n",
        "StratifiedKFold, GridSearchCV, cross_validate\n",
        "from sklearn.feature_selection import SelectFromModel, SelectKBest, chi2, f_classif\n",
        "from sklearn.decomposition import PCA, KernelPCA, FactorAnalysis, FastICA, IncrementalPCA, LatentDirichletAllocation, \\\n",
        "TruncatedSVD\n",
        "from sklearn.preprocessing import RobustScaler, LabelEncoder\n",
        "from sklearn.model_selection import StratifiedKFold, RepeatedStratifiedKFold, train_test_split, KFold\n",
        "from sklearn.metrics import roc_auc_score, silhouette_score, log_loss, make_scorer, matthews_corrcoef\n",
        "from sklearn.feature_selection import SelectKBest \n",
        "from bayes_opt import BayesianOptimization\n",
        "from boruta import BorutaPy\n",
        "from fancyimpute import SoftImpute, KNN, IterativeImputer\n",
        "import missingno as msno\n",
        "\n",
        "\n",
        "# Category encoders\n",
        "from category_encoders.ordinal import OrdinalEncoder\n",
        "from category_encoders.woe import WOEEncoder\n",
        "from category_encoders.target_encoder import TargetEncoder\n",
        "from category_encoders.sum_coding import SumEncoder\n",
        "from category_encoders.m_estimate import MEstimateEncoder\n",
        "from category_encoders.backward_difference import BackwardDifferenceEncoder\n",
        "from category_encoders.leave_one_out import LeaveOneOutEncoder\n",
        "from category_encoders.helmert import HelmertEncoder\n",
        "from category_encoders.cat_boost import CatBoostEncoder\n",
        "from category_encoders.james_stein import JamesSteinEncoder\n",
        "from category_encoders.one_hot import OneHotEncoder\n",
        "from category_encoders import JamesSteinEncoder\n",
        "\n",
        "import multiprocessing as mp\n",
        "from numba import jit\n",
        "from scipy.stats import rankdata\n",
        "import gc\n",
        "seed_value = 31\n",
        "os.environ['PYTHONHASHSEED'] = str(seed_value)\n",
        "random.seed(seed_value)\n",
        "np.random.seed(seed_value)\n",
        "\n",
        "%matplotlib inline"
      ],
      "execution_count": 6,
      "outputs": [
        {
          "output_type": "stream",
          "text": [
            "Using TensorFlow backend.\n",
            "2019-10-14 16:48:11,941 [INFO]  NumExpr defaulting to 4 threads.\n"
          ],
          "name": "stderr"
        }
      ]
    },
    {
      "cell_type": "markdown",
      "metadata": {
        "id": "wsXa-fEOZqES",
        "colab_type": "text"
      },
      "source": [
        "#### Upload files"
      ]
    },
    {
      "cell_type": "code",
      "metadata": {
        "id": "kySNy65gg8eK",
        "colab_type": "code",
        "outputId": "a2f00a3e-b8a3-447c-d728-305ad2bd83eb",
        "colab": {
          "base_uri": "https://localhost:8080/",
          "height": 51
        }
      },
      "source": [
        "%%time\n",
        "# Upload premodified files\n",
        "X_train = pd.read_csv(f'{root_path}x_train.csv', index_col=[0])\n",
        "X_test = pd.read_csv(f'{root_path}x_test.csv', index_col=[0])\n",
        "y_train = pd.read_csv(f'{root_path}y_train.csv', header=[0], index_col=[0])\n",
        "y_test_id = pd.read_csv(f'{root_path}y_test_id.csv', header=None, index_col=[0], names=['TransactionID'])\n",
        "# validation_scores = pd.read_csv(f'{root_path}validation_scores.csv', index_col=[0]) # currently outdated files\n",
        "cat_cols = pd.read_csv(f'{root_path}cat_cols.csv', header=None, index_col=[0])[1].tolist()\n",
        "number_cols = pd.read_csv(f'{root_path}number_cols.csv', header=None, index_col=[0])[1].tolist()\n",
        "\n",
        "# Set up category columns\n",
        "X_train.loc[:, cat_cols] = X_train.loc[:, cat_cols].astype(int)\n",
        "X_test.loc[:, cat_cols] = X_test.loc[:, cat_cols].astype(int)"
      ],
      "execution_count": 7,
      "outputs": [
        {
          "output_type": "stream",
          "text": [
            "CPU times: user 1min 10s, sys: 7.3 s, total: 1min 17s\n",
            "Wall time: 1min 40s\n"
          ],
          "name": "stdout"
        }
      ]
    },
    {
      "cell_type": "markdown",
      "metadata": {
        "id": "7dqzfc-xMKxc",
        "colab_type": "text"
      },
      "source": [
        "### Basic files"
      ]
    },
    {
      "cell_type": "code",
      "metadata": {
        "id": "-7CAm1b1Zfnc",
        "colab_type": "code",
        "outputId": "798e4ed8-c46f-4dc1-c0fd-7d85b28fabf6",
        "colab": {
          "base_uri": "https://localhost:8080/",
          "height": 0
        }
      },
      "source": [
        "%%time\n",
        "df_train_id = pd.read_csv(f'{root_path}train_identity.csv')\n",
        "df_train_tr = pd.read_csv(f'{root_path}train_transaction.csv')\n",
        "df_test_id = pd.read_csv(f'{root_path}test_identity.csv')\n",
        "df_test_tr = pd.read_csv(f'{root_path}test_transaction.csv')\n",
        "# Let's combine transaction and identity df's into one\n",
        "\n",
        "X_train = pd.merge(df_train_tr, df_train_id, how='left', on='TransactionID')\n",
        "X_test = pd.merge(df_test_tr, df_test_id, how='left', on='TransactionID' )\n",
        "y_train = pd.DataFrame(X_train['isFraud'], columns=['isFraud'])\n",
        "X_train.drop(['TransactionID'], axis=1, inplace=True)\n",
        "X_test.drop(['TransactionID'], axis=1, inplace=True)\n",
        "X_train.drop(['isFraud'], axis=1, inplace=True)\n",
        "print(X_train.shape, X_test.shape)\n",
        "del df_train_id, df_train_tr, df_test_id, df_test_tr"
      ],
      "execution_count": 6,
      "outputs": [
        {
          "output_type": "stream",
          "text": [
            "(590540, 432) (506691, 432)\n",
            "CPU times: user 1min 3s, sys: 15.1 s, total: 1min 18s\n",
            "Wall time: 1min 19s\n"
          ],
          "name": "stdout"
        }
      ]
    },
    {
      "cell_type": "markdown",
      "metadata": {
        "id": "VxskQVpqZv6u",
        "colab_type": "text"
      },
      "source": [
        "# Prepare data"
      ]
    },
    {
      "cell_type": "markdown",
      "metadata": {
        "id": "VZpJSvRYK35G",
        "colab_type": "text"
      },
      "source": [
        "## Feature extraction"
      ]
    },
    {
      "cell_type": "code",
      "metadata": {
        "id": "z2Pzr95HK7qZ",
        "colab_type": "code",
        "outputId": "c4ab217d-26e7-40b3-b081-676357c78311",
        "colab": {
          "base_uri": "https://localhost:8080/",
          "height": 0
        }
      },
      "source": [
        "# Extract Time Feature\n",
        "\n",
        "START_DATE = datetime.datetime.strptime('2017-11-30', '%Y-%m-%d')\n",
        "\n",
        "def set_time(df: pd.DataFrame):\n",
        "    df['DT'] = df['TransactionDT'].apply(lambda x: (START_DATE + datetime.timedelta(seconds=x)))\n",
        "    df['DT_hour'] = df['DT'].dt.hour\n",
        "    df['DT_hour'] = df['DT_hour'].astype('object')\n",
        "    df['DT_day'] = df['DT'].dt.day\n",
        "    df['DT_day'] = df['DT_day'].astype('object')\n",
        "    df['DT_day_week'] = df['DT'].dt.dayofweek\n",
        "    df['DT_day_week'] = df['DT_day_week'].astype('object')\n",
        "    df.drop(['TransactionDT', 'DT'], axis=1, inplace=True)\n",
        "\n",
        "set_time(X_train), set_time(X_test)"
      ],
      "execution_count": 7,
      "outputs": [
        {
          "output_type": "execute_result",
          "data": {
            "text/plain": [
              "(None, None)"
            ]
          },
          "metadata": {
            "tags": []
          },
          "execution_count": 7
        }
      ]
    },
    {
      "cell_type": "code",
      "metadata": {
        "id": "VvKYhJ11cjZC",
        "colab_type": "code",
        "outputId": "9b7cc5b3-83cb-481d-abb0-92345032b84a",
        "colab": {
          "base_uri": "https://localhost:8080/",
          "height": 0
        }
      },
      "source": [
        "# Feature extraction \n",
        "def browser_split(row):\n",
        "    if row is not np.nan:\n",
        "        if row.split(' ')[0] != 'mobile':\n",
        "            return row.split(' ')[0]\n",
        "        else:\n",
        "            try:\n",
        "                return row.split(' ')[1]\n",
        "            except IndexError:\n",
        "                return row.split(' ')[0]\n",
        "\n",
        "def version_split(row):\n",
        "    if row is not np.nan:\n",
        "        return re.sub('[^0-9.]', '', row)\n",
        "\n",
        "def os_version_split(row):\n",
        "    if row is not np.nan:\n",
        "        if row.split(' ')[0] != 'Mac':\n",
        "            try:\n",
        "                return row.split(' ')[1]\n",
        "            except IndexError:\n",
        "                return np.nan\n",
        "        else:\n",
        "            return re.sub('[^0-9]', '', row).replace('.', '')\n",
        "\n",
        "def int_to_str(df, cols):\n",
        "    for col in cols:\n",
        "        df[col] = df[col].astype('object')\n",
        "\n",
        "def feature_split(df: pd.DataFrame):\n",
        "    df[['P_emaildomain_1', 'P_emaildomain_2', 'P_emaildomain_3']] = df['P_emaildomain'].str.split('.', expand=True)\n",
        "    df[['R_emaildomain_1', 'R_emaildomain_2', 'R_emaildomain_3']] = df['R_emaildomain'].str.split('.', expand=True)\n",
        "    df['is_P_proton'] = df['P_emaildomain'].str.contains('proton', na=False).replace({True: 1, False: 0})\n",
        "    df['is_P_mail'] = df['P_emaildomain'].str.match('mail', na=False).replace({True: 1, False: 0})\n",
        "    df['is_P_outlook'] = df['P_emaildomain'].str.contains('outlook', na=False).replace({True: 1, False: 0})\n",
        "    df['is_R_proton'] = df['R_emaildomain'].str.contains('proton', na=False).replace({True: 1, False: 0})\n",
        "    df['is_R_mail'] = df['R_emaildomain'].str.match('mail', na=False).replace({True: 1, False: 0})\n",
        "    df['is_R_outlook'] = df['R_emaildomain'].str.contains('outlook', na=False).replace({True: 1, False: 0})\n",
        "    #df['is_P_proton'] = df['P_emaildomain_1'].apply(lambda x: 1 if x == 'protonmail' else 0)\n",
        "    #df['is_P_mail'] = df['P_emaildomain_1'].apply(lambda x: 1 if x == 'mail' else 0)\n",
        "    #df['is_P_outlook'] = df['P_emaildomain_1'].apply(lambda x: 1 if x == 'outlook' else 0)\n",
        "    #df['is_R_proton'] = df['R_emaildomain_1'].apply(lambda x: 1 if x == 'protonmail' else 0)\n",
        "    #df['is_R_mail'] = df['R_emaildomain_1'].apply(lambda x: 1 if x == 'mail' else 0)\n",
        "    #df['is_R_outlook'] = df['R_emaildomain_1'].apply(lambda x: 1 if x == 'outlook' else 0)\n",
        "\n",
        "    df['OS_id_30'] = df['id_30'].str.split(' ', expand=True)[0]\n",
        "    df['version_id_30'] = df['id_30'].apply(os_version_split)\n",
        "    df['browser_id_31'] = df['id_31'].apply(browser_split)\n",
        "    df['version_id_31'] = df['id_31'].apply(version_split).replace('', 0).astype(np.float)*10\n",
        "    df['screen_width'] = df['id_33'].str.split('x', expand=True)[0]\n",
        "    df['screen_height'] = df['id_33'].str.split('x', expand=True)[1]\n",
        "    df['id_34'] = df['id_34'].str.split(':', expand=True)[1]\n",
        "    df['id_23'] = df['id_23'].str.split(':', expand=True)[1]\n",
        "\n",
        "    df['device_name'] = df['DeviceInfo'].str.split('/', expand=True)[0]\n",
        "    df['device_version'] = df['DeviceInfo'].str.split('/', expand=True)[1]\n",
        "    df.loc[df['device_name'].str.contains('SM', na=False), 'device_name'] = 'Samsung'\n",
        "    df.loc[df['device_name'].str.contains('SAMSUNG', na=False), 'device_name'] = 'Samsung'\n",
        "    df.loc[df['device_name'].str.contains('GT-', na=False), 'device_name'] = 'Samsung'\n",
        "    df.loc[df['device_name'].str.contains('Moto G', na=False), 'device_name'] = 'Motorola'\n",
        "    df.loc[df['device_name'].str.contains('Moto', na=False), 'device_name'] = 'Motorola'\n",
        "    df.loc[df['device_name'].str.contains('moto', na=False), 'device_name'] = 'Motorola'\n",
        "    df.loc[df['device_name'].str.contains('LG-', na=False), 'device_name'] = 'LG'\n",
        "    df.loc[df['device_name'].str.contains('rv:', na=False), 'device_name'] = 'RV'\n",
        "    df.loc[df['device_name'].str.contains('HUAWEI', na=False), 'device_name'] = 'Huawei'\n",
        "    df.loc[df['device_name'].str.contains('ALE-', na=False), 'device_name'] = 'Huawei'\n",
        "    df.loc[df['device_name'].str.contains('-L', na=False), 'device_name'] = 'Huawei'\n",
        "    df.loc[df['device_name'].str.contains('Blade', na=False), 'device_name'] = 'ZTE'\n",
        "    df.loc[df['device_name'].str.contains('BLADE', na=False), 'device_name'] = 'ZTE'\n",
        "    df.loc[df['device_name'].str.contains('Linux', na=False), 'device_name'] = 'Linux'\n",
        "    df.loc[df['device_name'].str.contains('XT', na=False), 'device_name'] = 'Sony'\n",
        "    df.loc[df['device_name'].str.contains('HTC', na=False), 'device_name'] = 'HTC'\n",
        "    df.loc[df['device_name'].str.contains('ASUS', na=False), 'device_name'] = 'Asus'\n",
        "    df.drop(['P_emaildomain', 'R_emaildomain', 'id_30', 'id_31', 'id_33', 'DeviceInfo'], axis=1, inplace=True)\n",
        "    cols_to_str = ['OS_id_30', 'browser_id_31', 'id_34', 'version_id_30', 'version_id_31',\n",
        "                   'screen_width', 'screen_height', 'device_name', 'device_version',\n",
        "                   'is_P_proton', 'is_P_mail', 'is_P_outlook',\n",
        "                   'is_R_proton', 'is_R_mail', 'is_R_outlook'] + df.select_dtypes(include='object').columns.to_list()\n",
        "    df.loc[:, cols_to_str] = df.loc[:, cols_to_str].replace({None: np.nan})\n",
        "    int_to_str(df, cols_to_str)\n",
        "\n",
        "feature_split(X_train), feature_split(X_test)"
      ],
      "execution_count": 8,
      "outputs": [
        {
          "output_type": "execute_result",
          "data": {
            "text/plain": [
              "(None, None)"
            ]
          },
          "metadata": {
            "tags": []
          },
          "execution_count": 8
        }
      ]
    },
    {
      "cell_type": "markdown",
      "metadata": {
        "id": "8AqTnDHCt6se",
        "colab_type": "text"
      },
      "source": [
        "### Columns dtypes\n"
      ]
    },
    {
      "cell_type": "code",
      "metadata": {
        "id": "XUWzlnpzt_Qs",
        "colab_type": "code",
        "colab": {}
      },
      "source": [
        "cat_cols = X_train.select_dtypes(include=['object']).columns.to_list()\n",
        "number_cols = X_train.select_dtypes(include=['number']).columns.to_list()\n",
        "assert(len(cat_cols) + len(number_cols) == X_train.shape[1])"
      ],
      "execution_count": 0,
      "outputs": []
    },
    {
      "cell_type": "markdown",
      "metadata": {
        "id": "3J7GCTCzq6B6",
        "colab_type": "text"
      },
      "source": [
        "## Cross validation scheme\n",
        "\n",
        "Type - Nested\n",
        "\n",
        "Intervals - based on month\n",
        "\n",
        "Downsampling - True\n",
        "\n",
        "The idea behind [downsampling](https://www.kaggle.com/c/ieee-fraud-detection/discussion/108616#latest-628955) - our model should find anomalies among normal transactions but reduced amount of normal transactions don't affect anomalies.\n",
        "\n",
        "\n"
      ]
    },
    {
      "cell_type": "code",
      "metadata": {
        "id": "Cn_9fP0SwujS",
        "colab_type": "code",
        "colab": {}
      },
      "source": [
        "class NestedCrossValIntervals():\n",
        "\n",
        "    def __init__(self, X, y, train_size=None, sample_size=None):\n",
        "        self.X = X \n",
        "        self.y = y\n",
        "        self.points = None\n",
        "        self.samples = False\n",
        "        self.train_size = 0.7 # Proportion for train/validation split\n",
        "        self.sample_size = 8 # Number of normal incidicies per 1 fraud\n",
        "        self.with_validation = None # Indicies with validation split\n",
        "        self.no_validation = None #Indicies with out validation split\n",
        "        \n",
        "    def set_points(self):\n",
        "        self.points = []\n",
        "        for counter in range(self.X.shape[0] - 1):\n",
        "            if self.X.loc[counter, 'DT_day'] > self.X.loc[counter + 1, 'DT_day']:\n",
        "                self.points.append(counter + 1)\n",
        "        self.points.append(self.X.shape[0] - 1)     \n",
        "    \n",
        "    def set_intervals(self):\n",
        "        self.with_validation = []\n",
        "        self.no_validation = []\n",
        "        indices = np.arange(self.X.shape[0])\n",
        "        if self.points is None:\n",
        "            self.set_points()\n",
        "        for idx in range(len(self.points) - 1):\n",
        "            train = round(self.points[idx] * self.train_size)\n",
        "            val = self.points[idx]\n",
        "            test = self.points[idx + 1]\n",
        "            self.with_validation.append([indices[0: train], indices[train: val], indices[val: test]])\n",
        "            self.no_validation.append([indices[0: val], indices[val: test]])\n",
        "\n",
        "    def set_samples(self):\n",
        "        if self.samples is False:\n",
        "            self.samples = True\n",
        "            if self.with_validation is None:\n",
        "                self.set_intervals()\n",
        "            np.random.seed(seed_value)\n",
        "            for interval in [self.with_validation, self.no_validation]:\n",
        "                for idx in range(len(interval)):\n",
        "                    indicies = interval[idx][0]\n",
        "                    y_train = self.y.loc[indicies]\n",
        "                    fraud_number = len(y_train[y_train['isFraud'] == 1])\n",
        "                    fraud_indicies = y_train[y_train['isFraud'] == 1].index.values\n",
        "                    normal_indicies = y_train[y_train['isFraud'] == 0].index.values\n",
        "                    random_normal_indicies = np.random.choice(normal_indicies, fraud_number * self.sample_size, replace=False)\n",
        "                    interval[idx][0] = np.union1d(random_normal_indicies, fraud_indicies)\n",
        "        else:\n",
        "            pass\n",
        "        \n",
        "    def split(self, validation=False, one_fold=False):\n",
        "        \"\"\"\n",
        "        Yield a train/test indicies\n",
        "        \n",
        "        :param validation:\n",
        "            whether to yield indicies for validation\n",
        "        :param one_fold:\n",
        "            to speed up perform 1 fold split, where last month is for test and all\n",
        "            previous dates for train\n",
        "        :return:\n",
        "            yield indicies for train/validation/test sets respectively\n",
        "        \"\"\"\n",
        "        if self.samples is False:\n",
        "            self.set_samples()\n",
        "        if validation is False:\n",
        "            if one_fold is False:\n",
        "                for idx in self.no_validation:\n",
        "                    yield (idx[0], idx[1])\n",
        "            else:\n",
        "                yield self.no_validation[4][0], self.no_validation[4][1]\n",
        "        else:\n",
        "            if one_fold is False:\n",
        "                for idx in self.with_validation:\n",
        "                    yield idx[0], idx[1], idx[2]\n",
        "            else:\n",
        "                yield self.with_validation[4][0], self.with_validation[4][1], self.with_validation[4][2]\n",
        "\n",
        "intervals = NestedCrossValIntervals(X_train, y_train)"
      ],
      "execution_count": 0,
      "outputs": []
    },
    {
      "cell_type": "code",
      "metadata": {
        "id": "O8CbzVhuP87f",
        "colab_type": "code",
        "colab": {}
      },
      "source": [
        "# Train-val score calculations for LGBM and CTB\n",
        "\n",
        "def train_val_score_lgbm(df, target, one_fold=False):\n",
        "    param = {\n",
        "        'objective': 'binary',\n",
        "        'num_iterations': 200,\n",
        "        'learning_rate': 0.05,\n",
        "        'n_jobs': -1,\n",
        "        'reg_alpha': 0.1,\n",
        "        'min_split_gain': 0.1,\n",
        "        'bagging_fraction': 0.5,\n",
        "        'bagging_freq': 5,\n",
        "        'pos_bagging_fraction': 0.5,\n",
        "        'neg_bagging_fraction': 0.5,\n",
        "        'feature_fraction': 0.5,\n",
        "        'verbose': -1,\n",
        "        'metric': ['auc', 'binary_logloss']\n",
        "    }\n",
        "    auc_score = []\n",
        "    df_ = df.copy()\n",
        "    target_ = target.copy()\n",
        "    df_.reset_index(drop=True, inplace=True)\n",
        "    target_.reset_index(drop=True, inplace=True)\n",
        "    intervals = NestedCrossValIntervals(df_, target_)\n",
        "    for train_index, val_index in intervals.split(one_fold=one_fold):\n",
        "        train_data = lgb.Dataset(df_.loc[train_index], label=target_.loc[train_index],\n",
        "                                 feature_name=df.columns.to_list(), categorical_feature=cat_cols)\n",
        "        validation_data = lgb.Dataset(df_.loc[val_index], label=target_.loc[val_index], feature_name=df.columns.to_list(),\n",
        "                                    categorical_feature=cat_cols, reference=train_data)\n",
        "        bst = lgb.train(param, train_data, valid_sets=[train_data, validation_data], feval=mcc_eval, verbose_eval=False)\n",
        "        auc_score.append(round(bst.best_score['valid_1']['auc'], 4))\n",
        "    print(f'Average LGBM score is: {round(sum(auc_score)/len(auc_score), 4)}; CV-fold scores are: {auc_score}')\n",
        "\n",
        "def train_val_score_catboost(df, target, one_fold=False):\n",
        "    param = {\n",
        "        'iterations': 200,\n",
        "        'learning_rate': 0.1,\n",
        "        'loss_function': 'Logloss',\n",
        "        'custom_metric': ['AUC'],\n",
        "        'random_seed': 31,\n",
        "        'l2_leaf_reg': 3,\n",
        "        'depth': 7,\n",
        "        'one_hot_max_size': 5,\n",
        "        'rsm': 0.5,\n",
        "    }\n",
        "    auc_score = []\n",
        "    df_ = df.copy()\n",
        "    target_ = target.copy()\n",
        "    df_.reset_index(drop=True, inplace=True)\n",
        "    target_.reset_index(drop=True, inplace=True)\n",
        "    intervals = NestedCrossValIntervals(df_, target_)\n",
        "    for train_index, val_index in intervals.split(one_fold=one_fold):\n",
        "        train_data = ctb.Pool(df_.loc[train_index, :], label=target_.loc[train_index, :],\n",
        "                              cat_features=cat_cols, feature_names=df_.columns.to_list())\n",
        "        validation_data = ctb.Pool(df_.loc[val_index, :], label=target_.loc[val_index, :],\n",
        "                              cat_features=cat_cols, feature_names=df_.columns.to_list())\n",
        "        pos_neg_weight = len(np.where(target_.loc[train_index] == 0)[0]) / len(np.where(target_.loc[train_index] == 1)[0])\n",
        "        param['class_weights'] = [1, pos_neg_weight]\n",
        "        model = ctb.CatBoostClassifier(**param, logging_level='Silent')\n",
        "        model.fit(train_data, eval_set=validation_data)\n",
        "        metrics = model.eval_metrics(validation_data, ['AUC'], eval_period=1)\n",
        "        auc_score.append(round(np.array(metrics['AUC']).max(), 4))\n",
        "    print(f'Average CTB score is: {round(sum(auc_score)/len(auc_score), 4)}; CV-fold scores: {auc_score}')"
      ],
      "execution_count": 0,
      "outputs": []
    },
    {
      "cell_type": "markdown",
      "metadata": {
        "id": "UhRScfH9z1dz",
        "colab_type": "text"
      },
      "source": [
        "## Custom Loss (MCC)"
      ]
    },
    {
      "cell_type": "code",
      "metadata": {
        "id": "jD00HoXZz0QP",
        "colab_type": "code",
        "colab": {}
      },
      "source": [
        "@jit\n",
        "def mcc(tp, tn, fp, fn):\n",
        "    sup = tp * tn - fp * fn\n",
        "    inf = (tp + fp) * (tp + fn) * (tn + fp) * (tn + fn)\n",
        "    if inf==0:\n",
        "        return 0\n",
        "    else:\n",
        "        return sup / np.sqrt(inf)\n",
        "\n",
        "@jit\n",
        "def eval_mcc(y_true, y_prob, show=False):\n",
        "    idx = np.argsort(y_prob)\n",
        "    y_true_sort = y_true[idx]\n",
        "    n = y_true.shape[0]\n",
        "    nump = 1.0 * np.sum(y_true) # number of positive\n",
        "    numn = n - nump # number of negative\n",
        "    tp = nump\n",
        "    tn = 0.0\n",
        "    fp = numn\n",
        "    fn = 0.0\n",
        "    best_mcc = 0.0\n",
        "    best_id = -1\n",
        "    prev_proba = -1\n",
        "    best_proba = -1\n",
        "    mccs = np.zeros(n)\n",
        "    for i in range(n):\n",
        "        # all items with idx < i are predicted negative while others are predicted positive\n",
        "        # only evaluate mcc when probability changes\n",
        "        proba = y_prob[idx[i]]\n",
        "        if proba != prev_proba:\n",
        "            prev_proba = proba\n",
        "            new_mcc = mcc(tp, tn, fp, fn)\n",
        "            if new_mcc >= best_mcc:\n",
        "                best_mcc = new_mcc\n",
        "                best_id = i\n",
        "                best_proba = proba\n",
        "        mccs[i] = new_mcc\n",
        "        if y_true_sort[i] == 1:\n",
        "            tp -= 1.0\n",
        "            fn += 1.0\n",
        "        else:\n",
        "            fp -= 1.0\n",
        "            tn += 1.0\n",
        "    if show:\n",
        "        y_pred = (y_prob >= best_proba).astype(int)\n",
        "        score = matthews_corrcoef(y_true, y_pred)\n",
        "        print(score, best_mcc)\n",
        "        plt.plot(mccs)\n",
        "        return best_proba, best_mcc, y_pred\n",
        "    else:\n",
        "        return best_mcc\n",
        "    \n",
        "def mcc_eval(y_prob, dtrain):\n",
        "    y_true = dtrain.get_label()\n",
        "    best_mcc = eval_mcc(y_true, y_prob)\n",
        "    return 'MCC', best_mcc, True"
      ],
      "execution_count": 0,
      "outputs": []
    },
    {
      "cell_type": "markdown",
      "metadata": {
        "id": "hDIXkUstZx5F",
        "colab_type": "text"
      },
      "source": [
        "## Transformations (for numeric columns)\n",
        "\n",
        "Yeo-Jonhson and RobustScaler\n",
        "\n"
      ]
    },
    {
      "cell_type": "markdown",
      "metadata": {
        "id": "Lf8T955MzyFX",
        "colab_type": "text"
      },
      "source": [
        "### Yeo-Johnson Transformation"
      ]
    },
    {
      "cell_type": "code",
      "metadata": {
        "id": "q-UXPbafQ1ta",
        "colab_type": "code",
        "outputId": "e50e9132-00aa-437c-95b0-99084dc44a23",
        "colab": {
          "base_uri": "https://localhost:8080/",
          "height": 0
        }
      },
      "source": [
        "# Apply Yeo-Johnson transformation\n",
        "%%time\n",
        "yeo_cols = ['TransactionAmt'] + X_train.loc[:, 'C1':'C14'].columns.to_list()\n",
        "robust_cols = [x for x in number_cols if x not in yeo_cols]\n",
        "def yeo_johnson_transformation(df_train: pd.DataFrame, df_test: pd.DataFrame, cols=List[str]):\n",
        "    for col in cols:\n",
        "        df_train[col], alpha = sst.yeojohnson(df_train[col].astype(np.float))\n",
        "        df_test[col] = sst.yeojohnson(df_test[col].astype(np.float), alpha)\n",
        "\n",
        "yeo_johnson_transformation(X_train, X_test, yeo_cols)"
      ],
      "execution_count": 14,
      "outputs": [
        {
          "output_type": "stream",
          "text": [
            "CPU times: user 17.5 s, sys: 85.3 ms, total: 17.6 s\n",
            "Wall time: 17.6 s\n"
          ],
          "name": "stdout"
        }
      ]
    },
    {
      "cell_type": "markdown",
      "metadata": {
        "id": "EriZHWC80EzN",
        "colab_type": "text"
      },
      "source": [
        "### Robust Scaler"
      ]
    },
    {
      "cell_type": "code",
      "metadata": {
        "id": "Ua9Ru-_30D5t",
        "colab_type": "code",
        "outputId": "589c4d16-cf52-4ff2-deb3-e6003718a968",
        "colab": {
          "base_uri": "https://localhost:8080/",
          "height": 0
        }
      },
      "source": [
        "%%time\n",
        "scaler = RobustScaler()\n",
        "def robust_scalar(df_train: pd.DataFrame, df_test: pd.DataFrame, cols=List[str]):\n",
        "    df_train[cols] = scaler.fit_transform(df_train[cols])\n",
        "    df_test[cols] = scaler.transform(df_test[cols])\n",
        "\n",
        "robust_scalar(X_train, X_test, robust_cols)"
      ],
      "execution_count": 15,
      "outputs": [
        {
          "output_type": "stream",
          "text": [
            "CPU times: user 1min 2s, sys: 6.85 s, total: 1min 9s\n",
            "Wall time: 1min 9s\n"
          ],
          "name": "stdout"
        }
      ]
    },
    {
      "cell_type": "markdown",
      "metadata": {
        "id": "GeMTaJ0kFGLM",
        "colab_type": "text"
      },
      "source": [
        "## Label encoder\n",
        "\n",
        "Remove rare cats and LabelEncoding\n"
      ]
    },
    {
      "cell_type": "markdown",
      "metadata": {
        "id": "Z26pMt8FFMet",
        "colab_type": "text"
      },
      "source": [
        "### Remove rare categories"
      ]
    },
    {
      "cell_type": "code",
      "metadata": {
        "id": "UOBB0ppmFKuD",
        "colab_type": "code",
        "colab": {}
      },
      "source": [
        "# Remove rare categories\n",
        "def value_counts_remove(df_train: pd.DataFrame, df_test: pd.DataFrame, cols=List[str]):\n",
        "    for col in cols:\n",
        "        tmp = df_train[col].value_counts()[df_train[col].value_counts() < 20].index\n",
        "        df_train.loc[df_train[col].isin(tmp), col] = 'rare'\n",
        "        df_test.loc[df_test[col].isin(tmp), col] = 'rare' \n",
        "value_counts_remove(X_train, X_test, cat_cols)"
      ],
      "execution_count": 0,
      "outputs": []
    },
    {
      "cell_type": "markdown",
      "metadata": {
        "id": "MpY8JcDAFP7t",
        "colab_type": "text"
      },
      "source": [
        "### Encoding"
      ]
    },
    {
      "cell_type": "code",
      "metadata": {
        "id": "DLpv_IHHSyfh",
        "colab_type": "code",
        "outputId": "3dbfdd20-6b63-48e4-efd9-1e620238a9ca",
        "colab": {
          "base_uri": "https://localhost:8080/",
          "height": 0
        }
      },
      "source": [
        "%%time\n",
        "class LabelEncoderExt(object):\n",
        "    def __init__(self):\n",
        "        \"\"\"\n",
        "        It differs from LabelEncoder by handling new classes and providing a value for it [Unknown]\n",
        "        Unknown will be added in fit and transform will take care of new item. It gives unknown class id\n",
        "        \"\"\"\n",
        "        self.label_encoder = LabelEncoder()\n",
        "        # self.classes_ = self.label_encoder.classes_\n",
        "\n",
        "    def fit(self, data_list):\n",
        "        \"\"\"\n",
        "        This will fit the encoder for all the unique values and introduce unknown value\n",
        "        :param data_list: A list of string\n",
        "        :return: self\n",
        "        \"\"\"\n",
        "        self.label_encoder = self.label_encoder.fit(list(data_list) + ['Unknown'])\n",
        "        self.classes_ = self.label_encoder.classes_\n",
        "\n",
        "        return self\n",
        "\n",
        "    def transform(self, data_list):\n",
        "        \"\"\"\n",
        "        This will transform the data_list to id list where the new values get assigned to Unknown class\n",
        "        :param data_list:\n",
        "        :return:\n",
        "        \"\"\"\n",
        "        new_data_list = list(data_list)\n",
        "        for unique_item in set(data_list):\n",
        "            if unique_item not in self.label_encoder.classes_:\n",
        "                new_data_list = ['Unknown' if x==unique_item else x for x in new_data_list]\n",
        "\n",
        "        return self.label_encoder.transform(new_data_list)\n",
        "\n",
        "def label_encoder(df_train: pd.DataFrame, df_test: pd.DataFrame, cols=List[str]):\n",
        "    for col in cols:\n",
        "        le = LabelEncoderExt()\n",
        "        #df_train.loc[~df_train[col].isin([np.nan]), col] = df_train.loc[~df_train[col].isin([np.nan]), col].astype(str)\n",
        "        #df_test.loc[~df_test[col].isin([np.nan]), col] = df_test.loc[~df_test[col].isin([np.nan]), col].astype(str)\n",
        "        le.fit(df_train.loc[~df_train[col].isin([np.nan]), col].values)\n",
        "        df_train.loc[~df_train[col].isin([np.nan]), col] = le.transform(df_train.loc[~df_train[col].isin([np.nan]), col])\n",
        "        df_test.loc[~df_test[col].isin([np.nan]), col] = le.transform(df_test.loc[~df_test[col].isin([np.nan]), col])\n",
        "\n",
        "cols_to_encode = [x for x in cat_cols if x not in ['DT_hour', 'DT_day', 'DT_day_week']]\n",
        "label_encoder(X_train, X_test, cols_to_encode)"
      ],
      "execution_count": 17,
      "outputs": [
        {
          "output_type": "stream",
          "text": [
            "CPU times: user 35.2 s, sys: 432 ms, total: 35.7 s\n",
            "Wall time: 35.7 s\n"
          ],
          "name": "stdout"
        }
      ]
    },
    {
      "cell_type": "markdown",
      "metadata": {
        "id": "yb67-C4DCS4Q",
        "colab_type": "text"
      },
      "source": [
        "## Comparison of classifiers and Baseline model\n",
        "CatBoost and LGBM provided good results in term of both training bias and test variance. Also RF, AdaBoost, and LDA provided comparable public score.\n",
        "\n",
        "Baseline score LGBM - **0.9006** \n",
        "\n",
        "Baseline score CTB -  **0.9008**\n",
        "\n",
        "*Model* - LGBM \n",
        "\n",
        "*CV* - 5-fold TimeSeries crossval scheme defined with NestedCrossValIntervals\n",
        "\n",
        "*Metric* - AUC as eval metric\n",
        "\n",
        "Seems like bigger training sets results in a higher validation score for CTB "
      ]
    },
    {
      "cell_type": "markdown",
      "metadata": {
        "id": "s30JOSKURGRr",
        "colab_type": "text"
      },
      "source": [
        "### GBM classifiers"
      ]
    },
    {
      "cell_type": "code",
      "metadata": {
        "id": "h45ZfwtIQBIL",
        "colab_type": "code",
        "colab": {
          "base_uri": "https://localhost:8080/",
          "height": 0
        },
        "outputId": "37bde114-a0b3-4555-c289-d0932488c49c"
      },
      "source": [
        "# Simple filling of missing median for cont variables and mode for cat variables\n",
        "\n",
        "def fill_missings(df_train, df_test):\n",
        "    df_train_1 = df_train.copy()\n",
        "    df_test_1 = df_test.copy()\n",
        "\n",
        "    for col in number_cols: \n",
        "        df_train_1[col] = df_train_1[col].fillna(df_train_1[col].median())\n",
        "        df_test_1[col] = df_test_1[col].fillna(df_train_1[col].median())    \n",
        "    \n",
        "    for col in cat_cols:\n",
        "        df_train_1[col] = df_train_1[col].fillna(-1)\n",
        "        df_test_1[col] = df_test_1[col].fillna(-1)\n",
        "    return df_train_1, df_test_1\n",
        "    \n",
        "X_train_m, X_test_m = fill_missings(X_train, X_test)\n",
        "\n",
        "# Scores for GBM models \n",
        "train_val_score_lgbm(X_train_m, y_train)\n",
        "train_val_score_catboost(X_train_m, y_train)"
      ],
      "execution_count": 18,
      "outputs": [
        {
          "output_type": "stream",
          "text": [
            "Average LGBM score is: 0.9006; CV-fold scores are: [0.8882, 0.9052, 0.9006, 0.9026, 0.9065]\n",
            "Average CTB score is: 0.9008, CV-fold scores: [0.884, 0.9034, 0.8979, 0.907, 0.9118]\n"
          ],
          "name": "stdout"
        }
      ]
    },
    {
      "cell_type": "markdown",
      "metadata": {
        "id": "qw4eEwLPRCTW",
        "colab_type": "text"
      },
      "source": [
        "### Sklearn classifiers"
      ]
    },
    {
      "cell_type": "code",
      "metadata": {
        "id": "LI8f6xsKSA2F",
        "colab_type": "code",
        "colab": {}
      },
      "source": [
        "%%time\n",
        "# Scores for basic sklearn classifiers \n",
        "clf_names = ['RF', 'ABC', 'GNB', 'QDA',\n",
        "             #'GPC', 'SVC_LIN', 'SVC_RBF', 'NN',\n",
        "             'LDA', 'LR'\n",
        "             ]\n",
        "\n",
        "# SVM classifiers are too long to train. Complexity is about O(n^3): reduce C, no kernel, dimension reduction techniques\n",
        "\n",
        "classifiers = [\n",
        "               RandomForestClassifier(max_depth=6, max_features='sqrt', n_estimators=30),\n",
        "               AdaBoostClassifier(),\n",
        "               GaussianNB(),\n",
        "               QuadraticDiscriminantAnalysis(reg_param=0.1),\n",
        "               #GaussianProcessClassifier(1.0 * RBF(1.0)),\n",
        "               #SVC(kernel='linear', C=0.025),\n",
        "               #SVC(gamma=2, C=1),\n",
        "               #MLPClassifier(alpha=1, max_iter=10),\n",
        "               LinearDiscriminantAnalysis(),\n",
        "               LogisticRegression(class_weight='balanced')\n",
        "               ]\n",
        "\n",
        "intervals = NestedCrossValIntervals(X_train_m, y_train)\n",
        "scoring = {'AUC': make_scorer(roc_auc_score),\n",
        "           'Log_loss': make_scorer(log_loss)}\n",
        "\n",
        "clf_nested_scores = {}\n",
        "for name, clf in zip(clf_names, classifiers):\n",
        "    nested_scores = cross_validate(clf, X_train_m, y_train, return_train_score=True,\n",
        "                               n_jobs=-1, cv=intervals.split(), scoring=scoring,\n",
        "                               return_estimator=True, verbose=1)\n",
        "    for idx, estimator in enumerate(nested_scores['estimator']):\n",
        "        bst = estimator\n",
        "        y_test = bst.predict_proba(X_test_m)\n",
        "        submission = np.column_stack((y_test_id['TransactionID'], y_test))\n",
        "        submission = pd.DataFrame(submission, columns=['TransactionID', 'N', 'isFraud'])\n",
        "        submission.drop('N', axis=1, inplace=True)\n",
        "        submission['TransactionID'] = submission['TransactionID'].astype(int) \n",
        "        submission.to_csv(f'{root_path}submission.csv', index=False)\n",
        "        !kaggle competitions submit -c ieee-fraud-detection -f '{root_path}submission.csv' -m \"{name}_model_{idx}\"\n",
        "    del nested_scores['estimator']\n",
        "    clf_nested_scores[name] = nested_scores"
      ],
      "execution_count": 0,
      "outputs": []
    },
    {
      "cell_type": "code",
      "metadata": {
        "id": "JQxHIWucAXf4",
        "colab_type": "code",
        "colab": {}
      },
      "source": [
        "%%time\n",
        "# Scores for LGBM\n",
        "param = {\n",
        "'objective': 'binary',\n",
        "'num_iterations': 200,\n",
        "'learning_rate': 0.05,\n",
        "'n_jobs': -1,\n",
        "'reg_alpha': 0.1,\n",
        "'min_split_gain': 0.1,\n",
        "'bagging_fraction': 0.5,\n",
        "'bagging_freq': 5,\n",
        "'pos_bagging_fraction': 0.5,\n",
        "'neg_bagging_fraction': 0.5,\n",
        "'feature_fraction': 0.5,\n",
        "'verbose': 0,\n",
        "'metric': ['auc', 'binary_logloss']\n",
        "}\n",
        "\n",
        "lgbm_scores = {}\n",
        "lgbm_scores['lgbm'] = {}\n",
        "lgbm_scores['lgbm']['test_AUC'] = []\n",
        "lgbm_scores['lgbm']['test_Log_loss'] = []\n",
        "lgbm_scores['lgbm']['train_AUC'] = []\n",
        "lgbm_scores['lgbm']['train_Log_loss'] = []\n",
        "\n",
        "for idx, (train_index, val_index) in enumerate(intervals.split()):\n",
        "    train_data = lgb.Dataset(X_train_m.loc[train_index], label=y_train.loc[train_index], feature_name=X_train_m.columns.to_list(),\n",
        "                                categorical_feature=cat_cols)\n",
        "    validation_data = lgb.Dataset(X_train_m.loc[val_index], label=y_train.loc[val_index], feature_name=X_train_m.columns.to_list(),\n",
        "                                    categorical_feature=cat_cols, reference=train_data)\n",
        "    bst = lgb.train(param, train_data, valid_sets=[train_data, validation_data], verbose_eval=200)\n",
        "    lgbm_scores['lgbm']['test_AUC'].append(bst.best_score['valid_1']['auc'])\n",
        "    lgbm_scores['lgbm']['test_Log_loss'].append(bst.best_score['valid_1']['binary_logloss'])\n",
        "    lgbm_scores['lgbm']['train_AUC'].append(bst.best_score['training']['auc'])\n",
        "    lgbm_scores['lgbm']['train_Log_loss'].append(bst.best_score['training']['binary_logloss'])\n",
        "    y_test = bst.predict(X_test_m)\n",
        "    submission = np.vstack([y_test_id['TransactionID'], y_test])\n",
        "    submission = pd.DataFrame(submission.T, columns=['TransactionID', 'isFraud'])\n",
        "    submission['TransactionID'] = submission['TransactionID'].astype(int) \n",
        "    submission.to_csv(f'{root_path}submission.csv', index=False)\n",
        "    !kaggle competitions submit -c ieee-fraud-detection -f '{root_path}submission.csv' -m \"lgbm_model_{idx}\""
      ],
      "execution_count": 0,
      "outputs": []
    },
    {
      "cell_type": "code",
      "metadata": {
        "id": "874qurNYIMyf",
        "colab_type": "code",
        "colab": {}
      },
      "source": [
        "%%time\n",
        "# Scores for CatBoost\n",
        "param = {\n",
        "    'iterations': 200,\n",
        "    'depth': 8,\n",
        "    'learning_rate': 0.05,\n",
        "    'loss_function': 'Logloss',\n",
        "    'eval_metric': 'AUC',\n",
        "    'has_time': True,\n",
        "    'rsm': 0.5,\n",
        "    'class_weights': [0.2, 2],\n",
        "    'metric_period': 200\n",
        "    }\n",
        "\n",
        "ctb_scores = {}\n",
        "ctb_scores['ctb'] = {}\n",
        "ctb_scores['ctb']['test_AUC'] = []\n",
        "ctb_scores['ctb']['test_Log_loss'] = []\n",
        "ctb_scores['ctb']['train_AUC'] = []\n",
        "ctb_scores['ctb']['train_Log_loss'] = []\n",
        "\n",
        "for idx, (train_index, val_index) in enumerate(intervals.split()):\n",
        "    train_data = ctb.Pool(X_train_m.loc[train_index], label=y_train.loc[train_index],\n",
        "                          feature_names=X_train_m.columns.to_list(), cat_features=cat_cols)\n",
        "    validation_data = ctb.Pool(X_train_m.loc[val_index], label=y_train.loc[val_index],\n",
        "                               feature_names=X_train_m.columns.to_list(), cat_features=cat_cols)\n",
        "    bst = ctb.CatBoostClassifier(**param)\n",
        "    bst.fit(train_data, eval_set=[(train_data), (validation_data)])\n",
        "    ctb_scores['ctb']['test_AUC'].append(bst.get_best_score()['validation_1']['AUC'])\n",
        "    ctb_scores['ctb']['test_Log_loss'].append(bst.get_best_score()['validation_1']['Logloss'])\n",
        "    ctb_scores['ctb']['train_AUC'].append(bst.get_best_score()['validation_0']['AUC'])\n",
        "    ctb_scores['ctb']['train_Log_loss'].append(bst.get_best_score()['validation_0']['Logloss'])\n",
        "    y_test = bst.predict_proba(X_test_m)\n",
        "    submission = np.column_stack((y_test_id['TransactionID'], y_test))\n",
        "    submission = pd.DataFrame(submission, columns=['TransactionID', 'N', 'isFraud'])\n",
        "    submission.drop('N', axis=1, inplace=True)\n",
        "    submission['TransactionID'] = submission['TransactionID'].astype(int) \n",
        "    submission.to_csv(f'{root_path}submission.csv', index=False)\n",
        "    !kaggle competitions submit -c ieee-fraud-detection -f '{root_path}submission.csv' -m \"ctb_model_{idx}\""
      ],
      "execution_count": 0,
      "outputs": []
    },
    {
      "cell_type": "code",
      "metadata": {
        "id": "Qvrh5JeBcpes",
        "colab_type": "code",
        "colab": {}
      },
      "source": [
        "# Remove unnecessary info\n",
        "for i in clf_nested_scores:\n",
        "    del clf_nested_scores[i]['fit_time']\n",
        "    del clf_nested_scores[i]['score_time']\n",
        "\n",
        "del X_train_m, X_test_m\n",
        "\n",
        "# Union dicts\n",
        "overall_scores = {**ctb_scores, **lgbm_scores, **clf_nested_scores}\n",
        "\n",
        "# Add info about public LB and private LB\n",
        "overall_scores['ctb']['private_score'] = np.array([0.860507, 0.870847, 0.880731, 0.886185, 0.891070])\n",
        "overall_scores['ctb']['public_score'] = np.array([0.883710, 0.896797, 0.903107, 0.906419, 0.914127])\n",
        "\n",
        "overall_scores['lgbm']['private_score'] = np.array([0.871282, 0.886129, 0.891975, 0.895380, 0.900907]) \n",
        "overall_scores['lgbm']['public_score'] = np.array([0.884374, 0.900157, 0.905878, 0.909609, 0.914932])\n",
        "\n",
        "overall_scores['RF']['private_score'] = np.array([0.855268, 0.851583, 0.851114, 0.853279, 0.855679])\n",
        "overall_scores['RF']['public_score'] = np.array([0.870481, 0.874063, 0.872924, 0.874627, 0.877253])\n",
        "\n",
        "overall_scores['ABC']['private_score'] = np.array([0.837474, 0.850935, 0.854135, 0.858698, 0.865734])\n",
        "overall_scores['ABC']['public_score'] = np.array([0.856489, 0.869580, 0.877324, 0.877096, 0.884482])\n",
        "\n",
        "overall_scores['GNB']['private_score'] = np.array([0.706702, 0.729024, 0.751446, 0.759326, 0.738894])\n",
        "overall_scores['GNB']['public_score'] = np.array([0.742798, 0.778444, 0.803641, 0.816373, 0.803525])\n",
        "\n",
        "overall_scores['QDA']['private_score'] = np.array([0.765870, 0.786288, 0.790343, 0.796831, 0.795237])\n",
        "overall_scores['QDA']['public_score'] = np.array([0.794867, 0.813645, 0.820001, 0.827473, 0.829351])\n",
        "\n",
        "overall_scores['LDA']['private_score'] = np.array([0.810928, 0.829173, 0.840200, 0.848459, 0.849301])\n",
        "overall_scores['LDA']['public_score'] = np.array([0.838113, 0.865900, 0.874981, 0.878271, 0.880797])\n",
        "\n",
        "overall_scores['LR']['private_score'] = np.array([0.758811, 0.772954, 0.762239, 0.775179, 0.767541])\n",
        "overall_scores['LR']['public_score'] = np.array([0.792295, 0.813102, 0.808237, 0.818675, 0.812328])\n",
        "\n",
        "# Constract a frame\n",
        "overall_frame = pd.concat({k: pd.DataFrame(v).T for k, v in overall_scores.items()}, axis=0)\n",
        "overall_frame_melt = pd.melt(overall_frame.reset_index(), id_vars=['level_0', 'level_1'], value_vars=[0, 1, 2, 3, 4])"
      ],
      "execution_count": 0,
      "outputs": []
    },
    {
      "cell_type": "code",
      "metadata": {
        "id": "whevnGrLtZBw",
        "colab_type": "code",
        "colab": {}
      },
      "source": [
        "# Remove Logloss - messes values from different scores\n",
        "overall_frame_melt = overall_frame_melt[(overall_frame_melt['level_1'] != 'test_Log_loss') & (overall_frame_melt['level_1'] != 'train_Log_loss')]"
      ],
      "execution_count": 0,
      "outputs": []
    },
    {
      "cell_type": "code",
      "metadata": {
        "id": "2hoId0EBwV2U",
        "colab_type": "code",
        "outputId": "afbcaf71-d8cb-451f-bf86-5c059fadd3f5",
        "colab": {
          "base_uri": "https://localhost:8080/",
          "height": 526
        }
      },
      "source": [
        "# Bias and variance of different models\n",
        "plt.figure(figsize=(15, 8))\n",
        "sns.set(style=\"ticks\", palette=\"pastel\")\n",
        "sns.boxplot(data=overall_frame_melt, x='level_1', y='value', hue='level_0', dodge=True)"
      ],
      "execution_count": 0,
      "outputs": [
        {
          "output_type": "execute_result",
          "data": {
            "text/plain": [
              "<matplotlib.axes._subplots.AxesSubplot at 0x7fd9bd2ba828>"
            ]
          },
          "metadata": {
            "tags": []
          },
          "execution_count": 240
        },
        {
          "output_type": "display_data",
          "data": {
            "image/png": "[encoded data removed]",
            "text/plain": [
              "<Figure size 1080x576 with 1 Axes>"
            ]
          },
          "metadata": {
            "tags": []
          }
        }
      ]
    },
    {
      "cell_type": "code",
      "metadata": {
        "id": "5q90mXsVPbd2",
        "colab_type": "code",
        "colab": {}
      },
      "source": [
        ""
      ],
      "execution_count": 0,
      "outputs": []
    },
    {
      "cell_type": "markdown",
      "metadata": {
        "id": "Zi7bJd0bc6bw",
        "colab_type": "text"
      },
      "source": [
        "## Missing values\n",
        "After imputation cv-scores are:\n",
        "\n",
        "LGBM - **0.9015**\n",
        "\n",
        "CTB - **0.9010**\n"
      ]
    },
    {
      "cell_type": "markdown",
      "metadata": {
        "id": "Klp1sBE91JF9",
        "colab_type": "text"
      },
      "source": [
        "### Imputation for numeric columns\n",
        "\n",
        "Ideas:\n",
        "*   Apply different imputation strategies depending on share of missing values\n",
        "*   Enhance IterativeImputation approach\n",
        "*   Enhance interpolation approach  \n",
        "*   For time-depended features select and appropriate method to fill (currently not)\n",
        "*   Check Autoimpute library\n",
        "\n"
      ]
    },
    {
      "cell_type": "code",
      "metadata": {
        "id": "dlUA9dbGkFzR",
        "colab_type": "code",
        "colab": {}
      },
      "source": [
        "# Divide numeric columns for 2 categories: more than 50% of missing and less \n",
        "\n",
        "missings = X_train.loc[:, number_cols].isna().sum() / X_train.shape[0]\n",
        "df_missings = pd.DataFrame({'column_name': X_train.loc[:, number_cols].columns,\n",
        "                            'percent_missing': missings})\n",
        "df_missings.sort_values('percent_missing', inplace=True, ascending=False)\n",
        "df_missings.reset_index(drop=True, inplace=True)\n",
        "number_cols_low_miss = df_missings[df_missings['percent_missing'] < 0.5]['column_name'].to_list()\n",
        "number_cols_high_miss = df_missings[df_missings['percent_missing'] >= 0.5]['column_name'].to_list()"
      ],
      "execution_count": 0,
      "outputs": []
    },
    {
      "cell_type": "markdown",
      "metadata": {
        "id": "syVpo1yM0nmJ",
        "colab_type": "text"
      },
      "source": [
        "#### Basic imputation strategies: median, mean, mode \n",
        "\n",
        "Median approach provided the best result"
      ]
    },
    {
      "cell_type": "code",
      "metadata": {
        "id": "9ejaPecw07Xt",
        "colab_type": "code",
        "outputId": "f869f5a9-6282-4715-ea99-b84efd628707",
        "colab": {
          "base_uri": "https://localhost:8080/",
          "height": 154
        }
      },
      "source": [
        "# Score with 'median' imputation - 0.9006\n",
        "def fill_median(df, number, cat):\n",
        "    df_ = df.copy()\n",
        "    for col in number:\n",
        "        df_[col] = df_[col].fillna(df_[col].median())\n",
        "    for col in cat:\n",
        "        df_[col] = df_[col].fillna(-1)\n",
        "    return df_\n",
        "\n",
        "X_train_median = fill_median(X_train, number_cols, cat_cols)\n",
        "train_val_score(X_train_median, y_train)\n",
        "del X_train_median"
      ],
      "execution_count": 0,
      "outputs": [
        {
          "output_type": "stream",
          "text": [
            "[200]\ttraining's binary_logloss: 0.113486\ttraining's auc: 0.980652\ttraining's MCC: 0.833439\tvalid_1's binary_logloss: 0.117421\tvalid_1's auc: 0.888216\tvalid_1's MCC: 0.546223\n",
            "[200]\ttraining's binary_logloss: 0.135803\ttraining's auc: 0.963629\ttraining's MCC: 0.778239\tvalid_1's binary_logloss: 0.110033\tvalid_1's auc: 0.905209\tvalid_1's MCC: 0.56167\n",
            "[200]\ttraining's binary_logloss: 0.143435\ttraining's auc: 0.954813\ttraining's MCC: 0.759988\tvalid_1's binary_logloss: 0.112111\tvalid_1's auc: 0.900636\tvalid_1's MCC: 0.532242\n",
            "[200]\ttraining's binary_logloss: 0.152605\ttraining's auc: 0.94641\ttraining's MCC: 0.732573\tvalid_1's binary_logloss: 0.106191\tvalid_1's auc: 0.902617\tvalid_1's MCC: 0.510135\n",
            "[200]\ttraining's binary_logloss: 0.15631\ttraining's auc: 0.943459\ttraining's MCC: 0.722829\tvalid_1's binary_logloss: 0.110589\tvalid_1's auc: 0.906454\tvalid_1's MCC: 0.527245\n",
            "0.9006263287657911\n"
          ],
          "name": "stdout"
        },
        {
          "output_type": "execute_result",
          "data": {
            "text/plain": [
              "(<lightgbm.basic.Booster at 0x7fc226131320>, None)"
            ]
          },
          "metadata": {
            "tags": []
          },
          "execution_count": 30
        }
      ]
    },
    {
      "cell_type": "code",
      "metadata": {
        "id": "A5Uo9uxG2O28",
        "colab_type": "code",
        "outputId": "6f8b14d0-3f1f-4ee2-ae9d-39466f78529f",
        "colab": {
          "base_uri": "https://localhost:8080/",
          "height": 138
        }
      },
      "source": [
        "# Score with 'mean' imputation - 0.8996\n",
        "def fill_mean(df, number, cat):\n",
        "    df_ = df.copy()\n",
        "    for col in number:\n",
        "        df_[col] = df_[col].fillna(df_[col].mean())\n",
        "    for col in cat:\n",
        "        df_[col] = df_[col].fillna(-1)\n",
        "    return df_\n",
        "\n",
        "X_train_mean = fill_mean(X_train, number_cols, cat_cols)\n",
        "train_val_score(X_train_mean, y_train)\n",
        "del X_train_mean"
      ],
      "execution_count": 0,
      "outputs": [
        {
          "output_type": "stream",
          "text": [
            "[200]\ttraining's binary_logloss: 0.112997\ttraining's auc: 0.981241\ttraining's MCC: 0.830781\tvalid_1's binary_logloss: 0.11892\tvalid_1's auc: 0.885576\tvalid_1's MCC: 0.537573\n",
            "[200]\ttraining's binary_logloss: 0.135709\ttraining's auc: 0.963215\ttraining's MCC: 0.779248\tvalid_1's binary_logloss: 0.110008\tvalid_1's auc: 0.906304\tvalid_1's MCC: 0.56184\n",
            "[200]\ttraining's binary_logloss: 0.143626\ttraining's auc: 0.953785\ttraining's MCC: 0.758853\tvalid_1's binary_logloss: 0.113628\tvalid_1's auc: 0.897169\tvalid_1's MCC: 0.53083\n",
            "[200]\ttraining's binary_logloss: 0.15285\ttraining's auc: 0.946339\ttraining's MCC: 0.732326\tvalid_1's binary_logloss: 0.107263\tvalid_1's auc: 0.901274\tvalid_1's MCC: 0.499937\n",
            "[200]\ttraining's binary_logloss: 0.156359\ttraining's auc: 0.943465\ttraining's MCC: 0.724836\tvalid_1's binary_logloss: 0.109629\tvalid_1's auc: 0.907861\tvalid_1's MCC: 0.532783\n",
            "0.8996367255736679\n"
          ],
          "name": "stdout"
        }
      ]
    },
    {
      "cell_type": "code",
      "metadata": {
        "id": "E6HyG_t87lek",
        "colab_type": "code",
        "outputId": "82638562-05b0-438e-d5cc-123a92631c8d",
        "colab": {
          "base_uri": "https://localhost:8080/",
          "height": 138
        }
      },
      "source": [
        "# Score with 'mode' imputation - 0.9000\n",
        "def fill_mode(df, number, cat):\n",
        "    df_ = df.copy()\n",
        "    for col in number:\n",
        "        df_[col] = df_[col].fillna(df_[col].mode())\n",
        "    for col in cat:\n",
        "        df_[col] = df_[col].fillna(-1)\n",
        "    return df_\n",
        "\n",
        "X_train_mode = fill_mode(X_train, number_cols, cat_cols)\n",
        "train_val_score(X_train_mode, y_train)\n",
        "del X_train_mode"
      ],
      "execution_count": 0,
      "outputs": [
        {
          "output_type": "stream",
          "text": [
            "[200]\ttraining's binary_logloss: 0.111044\ttraining's auc: 0.98187\ttraining's MCC: 0.838251\tvalid_1's binary_logloss: 0.118072\tvalid_1's auc: 0.886406\tvalid_1's MCC: 0.546911\n",
            "[200]\ttraining's binary_logloss: 0.134034\ttraining's auc: 0.965049\ttraining's MCC: 0.781055\tvalid_1's binary_logloss: 0.109775\tvalid_1's auc: 0.905194\tvalid_1's MCC: 0.564645\n",
            "[200]\ttraining's binary_logloss: 0.142228\ttraining's auc: 0.955838\ttraining's MCC: 0.762563\tvalid_1's binary_logloss: 0.11265\tvalid_1's auc: 0.899416\tvalid_1's MCC: 0.530906\n",
            "[200]\ttraining's binary_logloss: 0.151851\ttraining's auc: 0.948132\ttraining's MCC: 0.733086\tvalid_1's binary_logloss: 0.106518\tvalid_1's auc: 0.902347\tvalid_1's MCC: 0.502867\n",
            "[200]\ttraining's binary_logloss: 0.155522\ttraining's auc: 0.944065\ttraining's MCC: 0.727122\tvalid_1's binary_logloss: 0.109617\tvalid_1's auc: 0.906855\tvalid_1's MCC: 0.525765\n",
            "0.9000437037272422\n"
          ],
          "name": "stdout"
        }
      ]
    },
    {
      "cell_type": "markdown",
      "metadata": {
        "id": "8oVwiv6Y00J_",
        "colab_type": "text"
      },
      "source": [
        "#### Iterative imputation with BayesianRidge and ExtraTreeRegressor as an estimators\n",
        "\n",
        "IterativeImputer shows a bit better score for large training sets in CV neveretheless average score is a bit lower.\n",
        "\n",
        "May be considered as an alternative to median approach"
      ]
    },
    {
      "cell_type": "code",
      "metadata": {
        "id": "00WoDKRn51Mn",
        "colab_type": "code",
        "outputId": "642bf999-49dc-4ef9-bb38-3e6f8acfd352",
        "colab": {
          "base_uri": "https://localhost:8080/",
          "height": 205
        }
      },
      "source": [
        "%%time\n",
        "# Score with 'ExtraTreeRegressor' imputation - 0.9004 (800, 80, 80, 1)\n",
        "# Score with 'ExtraTreeRegressor' imputation - 0.9015 (800, 80, 1, 1) for features with low % of missing we use imputer, for others median\n",
        "\n",
        "\n",
        "impute_estimator = ExtraTreesRegressor(min_samples_split=800, min_samples_leaf=80,\n",
        "                                       max_features='sqrt', n_jobs=-1, bootstrap=True, max_depth=6, random_state=31)\n",
        "\n",
        "# IterativeImputer's docs may change. \n",
        "imputer = IterativeImputer(predictor=impute_estimator,\n",
        "                           n_nearest_features=1, initial_strategy='median',\n",
        "                           n_iter=1, verbose=2, random_state=31)\n",
        "\n",
        "def numerical_imputer(df: pd.DataFrame, number, number_high, cat):\n",
        "    df_ = df.copy()\n",
        "    for col in number_high:\n",
        "        df_[col] = df_[col].fillna(df_[col].median())\n",
        "    for col in cat:\n",
        "        df_[col] = df_[col].fillna(-1)\n",
        "    df_.loc[:, number] = imputer.fit_transform(df_.loc[:, number])\n",
        "    return df_\n",
        "\n",
        "X_train_imp = numerical_imputer(X_train, number_cols, number_cols_high_miss, cat_cols)\n",
        "train_val_score(X_train_imp, y_train)\n",
        "del X_train_imp\n",
        "\n",
        "# Score with 'ExtraTreeRegressor' imputation - 0.9004 (800, 80, 80, 1) - Neveretheless the average score is a bit lower than for 'simple_median',\n",
        "# later scores for higher train amount data are higher. Information leak? We fit imputer on the whole dataset.\n",
        "\n",
        "# Some previous experiments with IterativeImputer. Old validation scheme has been used - 70/30 split with no shuffle.\n",
        "# Score with 'BayesianRidge' imputation - 0.896087\n",
        "# Score with 'ExtraTreeRegressor' imputation - 0.899197\n",
        "# Score with 'ExtraTreeRegressor' imputation - 0.898846 (30 iterations, 10 features)\n",
        "# Score with 'ExtraTreeRegressor' imputation - 0.899521 (2 iterations, 30 features)\n",
        "# Score with 'ExtraTreeRegressor' imputation - 0.899611 (1 iteration, 100 features)\n",
        "# Score with 'ExtraTreeRegressor' imputation - 0.901666 (same iteration params; increase min_sample_split (500 -> 1000), min_sample_leaf (50 -> 100), decrease max_depth (8 -> 6))\n",
        "# Score with 'ExtraTreeRegressor' imputation - 0.900015 (3 iteration, 50 featrues; same tree params)\n",
        "# Score with 'BayesianRidge' imputation - 0.899028 (1 iteration, 50 features; no model params)\n",
        "# Score with 'ExtraTreeRegressor' imputation - 0.897818 (1 ieration, 150 features; (1500, 200, 8))\n",
        "# Score with 'ExtraTreeRegressor' imputation - 0.902331 (800, 80, 80)"
      ],
      "execution_count": 0,
      "outputs": [
        {
          "output_type": "stream",
          "text": [
            "[IterativeImputer] Completing matrix with shape (590540, 448)\n",
            "[IterativeImputer] Ending imputation round 1/1, elapsed time 65.23\n",
            "[200]\ttraining's binary_logloss: 0.113147\ttraining's auc: 0.980535\ttraining's MCC: 0.831051\tvalid_1's binary_logloss: 0.11791\tvalid_1's auc: 0.887117\tvalid_1's MCC: 0.552361\n",
            "[200]\ttraining's binary_logloss: 0.134684\ttraining's auc: 0.964132\ttraining's MCC: 0.780542\tvalid_1's binary_logloss: 0.11004\tvalid_1's auc: 0.906622\tvalid_1's MCC: 0.565466\n",
            "[200]\ttraining's binary_logloss: 0.143504\ttraining's auc: 0.953775\ttraining's MCC: 0.759757\tvalid_1's binary_logloss: 0.112592\tvalid_1's auc: 0.897338\tvalid_1's MCC: 0.534455\n",
            "[200]\ttraining's binary_logloss: 0.152929\ttraining's auc: 0.946323\ttraining's MCC: 0.730932\tvalid_1's binary_logloss: 0.106417\tvalid_1's auc: 0.903609\tvalid_1's MCC: 0.50489\n",
            "[200]\ttraining's binary_logloss: 0.155946\ttraining's auc: 0.943182\ttraining's MCC: 0.723421\tvalid_1's binary_logloss: 0.110996\tvalid_1's auc: 0.904555\tvalid_1's MCC: 0.526066\n",
            "0.8998484003760725\n",
            "CPU times: user 7min 33s, sys: 20.9 s, total: 7min 53s\n",
            "Wall time: 5min 11s\n"
          ],
          "name": "stdout"
        }
      ]
    },
    {
      "cell_type": "markdown",
      "metadata": {
        "id": "vt0a2PQSGfSI",
        "colab_type": "text"
      },
      "source": [
        "#### Interpolation"
      ]
    },
    {
      "cell_type": "code",
      "metadata": {
        "id": "sSRqx8w9AQqZ",
        "colab_type": "code",
        "colab": {}
      },
      "source": [
        "%%time\n",
        "# Score with 'linear_interpolation' imputation - 0.8939 (22.5 min)\n",
        "# Too long to calculate with other methods\n",
        "def numerical_interpolation(df, number, cat):\n",
        "    df_ = df.copy()\n",
        "    for col in number:\n",
        "        df_[number] = df_[number].interpolate(method='linear', axis=0, limit_direction='both')\n",
        "    for col in cat:\n",
        "        df_[col]  = df_[col].fillna(-1)\n",
        "    return df_\n",
        "\n",
        "X_train_inter = numerical_interpolation(X_train, number_cols, cat_cols)\n",
        "train_val_score(X_train_inter, y_train)\n",
        "del X_train_inter"
      ],
      "execution_count": 0,
      "outputs": []
    },
    {
      "cell_type": "markdown",
      "metadata": {
        "id": "aLe6K9TJi1ob",
        "colab_type": "text"
      },
      "source": [
        "#### Final imputation for numeric columns"
      ]
    },
    {
      "cell_type": "code",
      "metadata": {
        "id": "MoUYKUZni7Oc",
        "colab_type": "code",
        "outputId": "a6356d69-390b-42d9-ac2d-534840a5e933",
        "colab": {
          "base_uri": "https://localhost:8080/",
          "height": 0
        }
      },
      "source": [
        "# Final imputation for numeric features\n",
        "impute_estimator = ExtraTreesRegressor(min_samples_split=800, min_samples_leaf=80,\n",
        "                                       max_features='sqrt', n_jobs=-1, bootstrap=True, max_depth=6, random_state=31)\n",
        "imputer = IterativeImputer(predictor=impute_estimator, n_nearest_features=1, initial_strategy='median',\n",
        "                           n_iter=1, verbose=2, random_state=31)\n",
        "\n",
        "for col in number_cols_high_miss:\n",
        "    X_train[col] = X_train[col].fillna(X_train[col].median())\n",
        "    X_test[col] = X_test[col].fillna(X_train[col].median())\n",
        "X_train.loc[:, number_cols] = imputer.fit_transform(X_train.loc[:, number_cols])\n",
        "X_test.loc[:, number_cols] = imputer.transform(X_test.loc[:, number_cols])"
      ],
      "execution_count": 22,
      "outputs": [
        {
          "output_type": "stream",
          "text": [
            "[IterativeImputer] Completing matrix with shape (590540, 400)\n",
            "[IterativeImputer] Ending imputation round 1/1, elapsed time 60.56\n",
            "[IterativeImputer] Completing matrix with shape (506691, 400)\n",
            "[IterativeImputer] Ending imputation round 1/1, elapsed time 16.08\n"
          ],
          "name": "stdout"
        }
      ]
    },
    {
      "cell_type": "markdown",
      "metadata": {
        "id": "o5Pgdbdn_YS0",
        "colab_type": "text"
      },
      "source": [
        "### Imputation for category columns"
      ]
    },
    {
      "cell_type": "code",
      "metadata": {
        "id": "gdpiboAKrmBe",
        "colab_type": "code",
        "colab": {}
      },
      "source": [
        "# Divide cat columns for 2 categories: more than 50% of missing and less \n",
        "\n",
        "missings_cat = X_train.loc[:, cat_cols].isna().sum() / X_train.shape[0]\n",
        "df_missings_cat = pd.DataFrame({'column_name': X_train.loc[:, cat_cols].columns,\n",
        "                            'percent_missing': missings_cat})\n",
        "df_missings_cat.sort_values('percent_missing', inplace=True, ascending=False)\n",
        "df_missings_cat.reset_index(drop=True, inplace=True)\n",
        "cat_cols_low_miss = df_missings_cat[df_missings['percent_missing'] < 0.5]['column_name'].to_list()\n",
        "cat_cols_high_miss = df_missings_cat[df_missings['percent_missing'] >= 0.5]['column_name'].to_list()"
      ],
      "execution_count": 0,
      "outputs": []
    },
    {
      "cell_type": "markdown",
      "metadata": {
        "id": "XSChrRfkEuPu",
        "colab_type": "text"
      },
      "source": [
        "#### Fill with mode "
      ]
    },
    {
      "cell_type": "code",
      "metadata": {
        "id": "wIC93q_xEzJA",
        "colab_type": "code",
        "outputId": "5bf34f0d-aec8-486c-df71-c634bbe264b6",
        "colab": {
          "base_uri": "https://localhost:8080/",
          "height": 138
        }
      },
      "source": [
        "# Score with mode imputation - 0.9003\n",
        "def fill_cat_mode(df, cat):\n",
        "    df_ = df.copy()\n",
        "    for col in cat:\n",
        "        df_[col] = df_[col].fillna(df_[col].mode())\n",
        "    return df_\n",
        "\n",
        "X_train_catmode = fill_cat_mode(X_train, cat_cols)\n",
        "train_val_score(X_train_catmode, y_train)\n",
        "del X_train_catmode"
      ],
      "execution_count": 0,
      "outputs": [
        {
          "output_type": "stream",
          "text": [
            "[200]\ttraining's binary_logloss: 0.112816\ttraining's auc: 0.981483\ttraining's MCC: 0.832315\tvalid_1's binary_logloss: 0.117396\tvalid_1's auc: 0.890249\tvalid_1's MCC: 0.546629\n",
            "[200]\ttraining's binary_logloss: 0.134268\ttraining's auc: 0.964366\ttraining's MCC: 0.780778\tvalid_1's binary_logloss: 0.109563\tvalid_1's auc: 0.905916\tvalid_1's MCC: 0.565672\n",
            "[200]\ttraining's binary_logloss: 0.142592\ttraining's auc: 0.955305\ttraining's MCC: 0.759822\tvalid_1's binary_logloss: 0.112552\tvalid_1's auc: 0.897347\tvalid_1's MCC: 0.531906\n",
            "[200]\ttraining's binary_logloss: 0.153001\ttraining's auc: 0.946233\ttraining's MCC: 0.73196\tvalid_1's binary_logloss: 0.106225\tvalid_1's auc: 0.901815\tvalid_1's MCC: 0.507158\n",
            "[200]\ttraining's binary_logloss: 0.156056\ttraining's auc: 0.943733\ttraining's MCC: 0.720733\tvalid_1's binary_logloss: 0.110496\tvalid_1's auc: 0.906087\tvalid_1's MCC: 0.526536\n",
            "0.900282768971026\n"
          ],
          "name": "stdout"
        }
      ]
    },
    {
      "cell_type": "markdown",
      "metadata": {
        "id": "eIqmCareLwPz",
        "colab_type": "text"
      },
      "source": [
        "#### Fill with -999"
      ]
    },
    {
      "cell_type": "code",
      "metadata": {
        "id": "pVielLf8L1dD",
        "colab_type": "code",
        "outputId": "701bbd7f-63f9-46d7-f417-33d84b075aed",
        "colab": {
          "base_uri": "https://localhost:8080/",
          "height": 138
        }
      },
      "source": [
        "# Score with '-1' imputation - 0.9015\n",
        "# Score with '-1' imputation and flag columns - 0.8999\n",
        "\n",
        "def fill_cat_999(df, cat):\n",
        "    df_ = df.copy()\n",
        "    for col in cat:\n",
        "        df_[col + '_na'] = df_[col].isna()\n",
        "        df_[col] = df_[col].fillna(-1)\n",
        "    return df_\n",
        "\n",
        "X_train_cat_999 = fill_cat_999(X_train, cat_cols)\n",
        "train_val_score(X_train_cat_999, y_train)\n",
        "del X_train_cat_999"
      ],
      "execution_count": 0,
      "outputs": [
        {
          "output_type": "stream",
          "text": [
            "[200]\ttraining's binary_logloss: 0.111885\ttraining's auc: 0.982164\ttraining's MCC: 0.835327\tvalid_1's binary_logloss: 0.118492\tvalid_1's auc: 0.886258\tvalid_1's MCC: 0.545038\n",
            "[200]\ttraining's binary_logloss: 0.134292\ttraining's auc: 0.965335\ttraining's MCC: 0.780332\tvalid_1's binary_logloss: 0.109851\tvalid_1's auc: 0.905578\tvalid_1's MCC: 0.562959\n",
            "[200]\ttraining's binary_logloss: 0.143138\ttraining's auc: 0.954807\ttraining's MCC: 0.758583\tvalid_1's binary_logloss: 0.112765\tvalid_1's auc: 0.897879\tvalid_1's MCC: 0.529658\n",
            "[200]\ttraining's binary_logloss: 0.152607\ttraining's auc: 0.946902\ttraining's MCC: 0.73192\tvalid_1's binary_logloss: 0.106276\tvalid_1's auc: 0.902777\tvalid_1's MCC: 0.507448\n",
            "[200]\ttraining's binary_logloss: 0.15609\ttraining's auc: 0.943386\ttraining's MCC: 0.721876\tvalid_1's binary_logloss: 0.109845\tvalid_1's auc: 0.907096\tvalid_1's MCC: 0.530364\n",
            "0.8999175454758734\n"
          ],
          "name": "stdout"
        }
      ]
    },
    {
      "cell_type": "markdown",
      "metadata": {
        "id": "WR3cfcJGE0Ff",
        "colab_type": "text"
      },
      "source": [
        "#### Iterative imputation"
      ]
    },
    {
      "cell_type": "code",
      "metadata": {
        "id": "G9N7wYO8_cIZ",
        "colab_type": "code",
        "colab": {}
      },
      "source": [
        "# KNN predictor trains too long\n",
        "# Score with 'ExtraTreeRegressor' imputation - 0.9005 (800, 80, 1, 1)\n",
        "# Score with 'ExtraTreeRegressor' imputation with all columns - 0.9007 (800, 80, 1, 1)\n",
        "# Score with 'ExtraTreeRegressor' imputation with all columns - 0.9009 (800, 80, 2, 1)\n",
        "# Score with 'ExtraTreeRegressor' imputation with all columns - 0.9006 (800, 80, 10, 10) - good score for last fold (0.9104)\n",
        "# Score with 'ExtraTreeRegressor' imputation with all columns - 0.8990 (800, 80, 10, 1) \n",
        "# Score with 'ExtraTreeRegressor' imputation with all columns - 0.9001 (800, 80, 3, 1) \n",
        "# Score with 'ExtraTreeRegressor' imputation with all columns - 0.9004 (800, 80, 2, 10) \n",
        "\n",
        "\n",
        "impute_estimator = ExtraTreesRegressor(min_samples_split=800, min_samples_leaf=80,\n",
        "                                       max_features='sqrt', n_jobs=-1, bootstrap=True, max_depth=6, random_state=31)\n",
        "imputer = IterativeImputer(predictor=impute_estimator,\n",
        "                           n_nearest_features=2, initial_strategy='median',\n",
        "                           n_iter=1, verbose=2, random_state=31)\n",
        "\n",
        "def numerical_imputer(df, cat):\n",
        "    df_ = df.copy()\n",
        "    df_.loc[:, cat] = imputer.fit_transform(df_.loc[:, cat])\n",
        "    return df_\n",
        "\n",
        "X_train_imp = numerical_imputer(X_train, X_train.columns)\n",
        "train_val_score(X_train_imp, y_train)\n",
        "del X_train_imp"
      ],
      "execution_count": 0,
      "outputs": []
    },
    {
      "cell_type": "markdown",
      "metadata": {
        "id": "7gaPqXXs7qCH",
        "colab_type": "text"
      },
      "source": [
        "#### Final imputation for category features"
      ]
    },
    {
      "cell_type": "code",
      "metadata": {
        "id": "VfefP0Py7qpv",
        "colab_type": "code",
        "colab": {}
      },
      "source": [
        "X_train.loc[:, cat_cols] = X_train.loc[:, cat_cols].fillna(-1)\n",
        "X_test.loc[:, cat_cols] = X_test.loc[:, cat_cols].fillna(-1)"
      ],
      "execution_count": 0,
      "outputs": []
    },
    {
      "cell_type": "markdown",
      "metadata": {
        "id": "o57wce2_apTj",
        "colab_type": "text"
      },
      "source": [
        "### Scores after imputation"
      ]
    },
    {
      "cell_type": "code",
      "metadata": {
        "id": "tsPUvfHgasgt",
        "colab_type": "code",
        "colab": {
          "base_uri": "https://localhost:8080/",
          "height": 0
        },
        "outputId": "cc3dbcc8-51ca-4435-a236-cfa915e021cc"
      },
      "source": [
        "%%time\n",
        "train_val_score_lgbm(X_train, y_train)\n",
        "train_val_score_catboost(X_train, y_train)"
      ],
      "execution_count": 28,
      "outputs": [
        {
          "output_type": "stream",
          "text": [
            "Average LGBM score is: 0.9015; CV-fold scores are: [0.8907, 0.9061, 0.8982, 0.905, 0.9073]\n",
            "Average CTB score is: 0.901, CV-fold scores: [0.8849, 0.9034, 0.9005, 0.9027, 0.9134]\n",
            "CPU times: user 23min 12s, sys: 48.6 s, total: 24min\n",
            "Wall time: 8min 45s\n"
          ],
          "name": "stdout"
        }
      ]
    },
    {
      "cell_type": "markdown",
      "metadata": {
        "id": "xTVCre_Pj1ye",
        "colab_type": "text"
      },
      "source": [
        "## Outliers\n",
        "\n"
      ]
    },
    {
      "cell_type": "markdown",
      "metadata": {
        "id": "iHoq_woxQZ1t",
        "colab_type": "text"
      },
      "source": [
        "### Isolation Forest"
      ]
    },
    {
      "cell_type": "code",
      "metadata": {
        "id": "iElZTJquc2xb",
        "colab_type": "code",
        "colab": {
          "base_uri": "https://localhost:8080/",
          "height": 729
        },
        "outputId": "31a02ae5-b0b0-4700-efce-4f2c2673c55a"
      },
      "source": [
        "# Isolation Forest\n",
        "%%time\n",
        "def iso_forest_outlier(df, target, contamination):\n",
        "    for n in contamination: \n",
        "        df_ = df.copy()\n",
        "        target_ = target.copy()\n",
        "        iso_forest = IsolationForest(max_samples=1.0, max_features=1.0, n_jobs=-1,\n",
        "                                     verbose=0, bootstrap=True, behaviour='new',\n",
        "                                     contamination=n, random_state=31)\n",
        "        iso_outliers = iso_forest.fit_predict(df_.loc[:, number_cols])\n",
        "        df_['outlier'] = pd.Series(iso_outliers, index=df_.index)\n",
        "        index_to_drop_iso = df_[(df_['outlier'] == -1)].index\n",
        "        df_ = df_.drop(index_to_drop_iso)\n",
        "        target_ = target_.drop(index_to_drop_iso)\n",
        "        df_ = df_.drop(['outlier'], axis=1)\n",
        "        print(f'\\nFor contamination of {n}')\n",
        "        train_val_score_lgbm(df_, target_ )\n",
        "\n",
        "iso_forest_outlier(X_train, y_train, np.linspace(0.0008, 0.002, 13))"
      ],
      "execution_count": 36,
      "outputs": [
        {
          "output_type": "stream",
          "text": [
            "\n",
            "For contamination of 0.0008\n",
            "Average LGBM score is: 0.9004; CV-fold scores are: [0.8871, 0.9052, 0.8987, 0.9033, 0.9076]\n",
            "\n",
            "For contamination of 0.0009000000000000001\n",
            "Average LGBM score is: 0.902; CV-fold scores are: [0.8928, 0.9069, 0.8999, 0.9019, 0.9085]\n",
            "\n",
            "For contamination of 0.001\n",
            "Average LGBM score is: 0.9014; CV-fold scores are: [0.8868, 0.9081, 0.9008, 0.9043, 0.9071]\n",
            "\n",
            "For contamination of 0.0011\n",
            "Average LGBM score is: 0.9011; CV-fold scores are: [0.8867, 0.9066, 0.8992, 0.9028, 0.91]\n",
            "\n",
            "For contamination of 0.0012000000000000001\n",
            "Average LGBM score is: 0.9008; CV-fold scores are: [0.887, 0.9068, 0.9004, 0.9011, 0.9087]\n",
            "\n",
            "For contamination of 0.0013\n",
            "Average LGBM score is: 0.9017; CV-fold scores are: [0.8889, 0.9073, 0.8997, 0.9038, 0.909]\n",
            "\n",
            "For contamination of 0.0014000000000000002\n",
            "Average LGBM score is: 0.8999; CV-fold scores are: [0.8877, 0.9059, 0.8978, 0.9003, 0.9078]\n",
            "\n",
            "For contamination of 0.0015\n",
            "Average LGBM score is: 0.9001; CV-fold scores are: [0.8868, 0.9067, 0.8966, 0.9037, 0.9066]\n",
            "\n",
            "For contamination of 0.0016\n",
            "Average LGBM score is: 0.9003; CV-fold scores are: [0.8892, 0.9043, 0.8974, 0.9035, 0.9071]\n",
            "\n",
            "For contamination of 0.0017000000000000001\n",
            "Average LGBM score is: 0.9008; CV-fold scores are: [0.8865, 0.9061, 0.8989, 0.9046, 0.9081]\n",
            "\n",
            "For contamination of 0.0018\n",
            "Average LGBM score is: 0.902; CV-fold scores are: [0.8891, 0.9054, 0.9004, 0.9054, 0.9095]\n",
            "\n",
            "For contamination of 0.0019000000000000002\n",
            "Average LGBM score is: 0.9013; CV-fold scores are: [0.8892, 0.9066, 0.8986, 0.9034, 0.9085]\n",
            "\n",
            "For contamination of 0.002\n",
            "Average LGBM score is: 0.9013; CV-fold scores are: [0.8876, 0.9071, 0.9008, 0.903, 0.9082]\n",
            "CPU times: user 2h 53min 48s, sys: 4min 30s, total: 2h 58min 18s\n",
            "Wall time: 1h 59min 11s\n"
          ],
          "name": "stdout"
        }
      ]
    },
    {
      "cell_type": "markdown",
      "metadata": {
        "id": "rdAKWqamQVC5",
        "colab_type": "text"
      },
      "source": [
        "### Local Outlier Factor"
      ]
    },
    {
      "cell_type": "code",
      "metadata": {
        "id": "mbIIwnKLq8I0",
        "colab_type": "code",
        "colab": {}
      },
      "source": [
        "%%time\n",
        "# Takes too much time to compute\n",
        "\n",
        "def LOF_outlier(df, target):\n",
        "    df_ = df.copy()\n",
        "    target_ = target.copy()\n",
        "    LOF = LocalOutlierFactor(n_jobs=-1, contamination='auto') #check base params\n",
        "    outliers = LOF.fit_predict(df_)\n",
        "    df_['outlier'] = pd.Series(outliers, index=df_.index)\n",
        "    index_to_drop = df_[(df_['outlier'] == -1)].index\n",
        "    df_ = df_.drop(index_to_drop)\n",
        "    target_ = target_.drop(index_to_drop)\n",
        "    df_ = df_.drop('outlier', axis=1)\n",
        "    train_val_score_lgbm(X_train_out, y_train_out)\n",
        "    \n",
        "#LOF_calc(X_train, y_train)"
      ],
      "execution_count": 0,
      "outputs": []
    },
    {
      "cell_type": "markdown",
      "metadata": {
        "id": "P7qj5AL7ZxCe",
        "colab_type": "text"
      },
      "source": [
        "### Mahalanobis distance\n",
        "\n",
        "This approach assumes that data is distributed in a spherical manner, which is not true in our case as cv score drops significantly\n",
        "\n",
        "We would add a Mahalanobis distance as a feature"
      ]
    },
    {
      "cell_type": "code",
      "metadata": {
        "id": "D7tChDVEaJXk",
        "colab_type": "code",
        "outputId": "f3103eef-542f-406c-f11e-2c0661792415",
        "colab": {
          "base_uri": "https://localhost:8080/",
          "height": 34
        }
      },
      "source": [
        "def mahalanobis(x=None, data=None, cov=None):\n",
        "    \"\"\"Compute the Mahalanobis Distance between each row of x and the data  \n",
        "    x    : vector or matrix of data with, say, p columns.\n",
        "    data : ndarray of the distribution from which Mahalanobis distance of each observation of x is to be computed.\n",
        "    cov  : covariance matrix (p x p) of the distribution. If None, will be computed from data.\n",
        "    \"\"\"\n",
        "    x_minus_mu = x - np.mean(data)\n",
        "    if not cov:\n",
        "        cov = np.cov(data.values.T)\n",
        "    inv_covmat = sp.linalg.inv(cov)\n",
        "    left_term = np.dot(x_minus_mu, inv_covmat)\n",
        "    # mahal = np.dot(left_term, x_minus_mu.T) # Expensive operation in terms of RAM\n",
        "    # diag_term = mahal.diagonal()\n",
        "    diag_term = np.multiply(left_term, x_minus_mu) # As soon as we need only diag element we may change computation process\n",
        "    diag_term = diag_term.sum(axis=1) \n",
        "    return diag_term\n",
        "\n",
        "def mahalanobis_outlier(df, target):\n",
        "    df_ = df.copy()\n",
        "    target_ = target.copy()\n",
        "\n",
        "    df_['mahala'] = mahalanobis(df_.loc[:, number_cols], df_.loc[:, number_cols])\n",
        "    extreme_dist = sst.chi2.ppf(0.9999999, df=len(df_.loc[:, number_cols].columns) - 1)\n",
        "    index_to_drop = df_[df_['mahala'] > extreme_dist].index\n",
        "    df_ = df_.drop(index_to_drop)\n",
        "    target_ = target_.drop(index_to_drop)\n",
        "    mahala = df_['mahala']\n",
        "    df_ = df_.drop('mahala', axis=1)\n",
        "    train_val_score_lgbm(df_, target_)\n",
        "\n",
        "mahalanobis_outlier(X_train, y_train)"
      ],
      "execution_count": 49,
      "outputs": [
        {
          "output_type": "stream",
          "text": [
            "Average LGBM score is: 0.8573; CV-fold scores are: [0.8369, 0.8575, 0.8514, 0.8658, 0.8747]\n"
          ],
          "name": "stdout"
        }
      ]
    },
    {
      "cell_type": "markdown",
      "metadata": {
        "id": "sqUwUOVRfNT5",
        "colab_type": "text"
      },
      "source": [
        "### CatBoost \n",
        "\n",
        "Check get_object_importance"
      ]
    },
    {
      "cell_type": "code",
      "metadata": {
        "id": "avwve9CffKz5",
        "colab_type": "code",
        "colab": {}
      },
      "source": [
        "def catboost_model(df, target, one_fold=False):\n",
        "    param = {\n",
        "        'iterations': 200,\n",
        "        'learning_rate': 0.1,\n",
        "        'loss_function': 'Logloss',\n",
        "        'custom_metric': ['AUC'],\n",
        "        'random_seed': 31,\n",
        "        'l2_leaf_reg': 3,\n",
        "        'depth': 7,\n",
        "        'one_hot_max_size': 5,\n",
        "        'rsm': 0.5,\n",
        "    }\n",
        "    df_ = df.copy()\n",
        "    target_ = target.copy()\n",
        "    df_.reset_index(drop=True, inplace=True)\n",
        "    target_.reset_index(drop=True, inplace=True)\n",
        "    intervals = NestedCrossValIntervals(df_, target_)\n",
        "    for train_index, val_index in intervals.split(one_fold=one_fold):\n",
        "        train_data = ctb.Pool(df.loc[train_index, :], label=target.loc[train_index],\n",
        "                              cat_features=cat_cols, feature_names=df.columns.to_list())\n",
        "        validation_data = ctb.Pool(df.loc[val_index, :], label=target.loc[val_index, :],\n",
        "                              cat_features=cat_cols, feature_names=df.columns.to_list())\n",
        "        pos_neg_weight = len(np.where(target.loc[train_index] == 0)[0]) / len(np.where(target.loc[train_index] == 1)[0])\n",
        "        param['class_weights'] = [1, pos_neg_weight]\n",
        "        model = ctb.CatBoostClassifier(**param, logging_level='Silent')\n",
        "        model.fit(train_data, eval_set=validation_data)\n",
        "    return model\n",
        "\n",
        "model = catboost_model(X_train, y_train, True)"
      ],
      "execution_count": 0,
      "outputs": []
    },
    {
      "cell_type": "code",
      "metadata": {
        "id": "sqWylbmMX7YY",
        "colab_type": "code",
        "colab": {
          "base_uri": "https://localhost:8080/",
          "height": 51
        },
        "outputId": "57c300a4-6750-49a9-f904-ec36563551e8"
      },
      "source": [
        "%%time\n",
        "train_pool = ctb.Pool(X_train.loc[:10000, :], label=y_train.loc[:10000, :],\n",
        "                      cat_features=cat_cols, feature_names=X_train.columns.to_list())\n",
        "validation_pool = ctb.Pool(X_train.loc[500:1000, :], label=y_train.loc[500:1000, :],\n",
        "                           cat_features=cat_cols, feature_names=X_train.columns.to_list())\n",
        "indicies, scores = model.get_object_importance(pool=train_pool, train_pool=validation_pool)\n"
      ],
      "execution_count": 78,
      "outputs": [
        {
          "output_type": "stream",
          "text": [
            "CPU times: user 15 s, sys: 63 ms, total: 15.1 s\n",
            "Wall time: 4.02 s\n"
          ],
          "name": "stdout"
        }
      ]
    },
    {
      "cell_type": "code",
      "metadata": {
        "id": "UHq-S9xofgmn",
        "colab_type": "code",
        "colab": {}
      },
      "source": [
        "def train_and_print_score(train_indices, remove_object_count):\n",
        "    cb.fit(X_train[train_indices], y_train_noisy[train_indices], cat_features=cat_features)\n",
        "    metric_value = cb.eval_metrics(validation_pool, ['RMSE'])['RMSE'][-1]\n",
        "    s = 'RMSE on validation datset when {} harmful objects from train are dropped: {}'\n",
        "    print(s.format(remove_object_count, metric_value))\n",
        "\n",
        "batch_size = 250\n",
        "train_indices = np.full(X_train.shape[0], True)\n",
        "train_and_print_score(train_indices, 0)\n",
        "for batch_start_index in range(0, 2000, batch_size):\n",
        "    train_indices[indices[batch_start_index:batch_start_index + batch_size]] = False\n",
        "    train_and_print_score(train_indices, batch_start_index + batch_size)\n"
      ],
      "execution_count": 0,
      "outputs": []
    },
    {
      "cell_type": "markdown",
      "metadata": {
        "id": "JNGTde7HgMnG",
        "colab_type": "text"
      },
      "source": [
        "### Variance criteria \n",
        "Not used"
      ]
    },
    {
      "cell_type": "code",
      "metadata": {
        "id": "qmO6m9gtt8eF",
        "colab_type": "code",
        "outputId": "7259309f-0272-4c4b-870e-0ad90778f0a1",
        "colab": {
          "base_uri": "https://localhost:8080/"
        }
      },
      "source": [
        "# Remove columns with a lot of NaNs and repeated value over 90%\n",
        "\n",
        "def many_nulls(df: pd.DataFrame) -> List:\n",
        "    null_cols = [col for col in df.columns if df[col].isnull().sum() / df.shape[0] > 0.9]\n",
        "    return null_cols\n",
        "\n",
        "def many_repeated(df: pd.DataFrame) -> List:\n",
        "    repeated_cols = [col for col in df.columns if df[col].value_counts(dropna=False, normalize=True).values[0] > 0.9]\n",
        "    return repeated_cols\n",
        "\n",
        "def get_useless_cols(df: pd.DataFrame) -> List:\n",
        "    nulls = many_nulls(df)\n",
        "    print('More than 90% null: ' + str(len(nulls)))\n",
        "    repeated = many_repeated(df)\n",
        "    print('More than 90% repeated value: ' + str(len(repeated)))\n",
        "    cols_to_drop = list(set(nulls + repeated))\n",
        "    return cols_to_drop\n",
        "    \n",
        "cols_to_drop = get_useless_cols(X_train)\n",
        "X_train = X_train.drop(columns=cols_to_drop)\n",
        "X_test = X_test.drop(columns=cols_to_drop)"
      ],
      "execution_count": 0,
      "outputs": [
        {
          "output_type": "stream",
          "text": [
            "More than 90% null: 15\n",
            "More than 90% repeated value: 75\n"
          ],
          "name": "stdout"
        }
      ]
    },
    {
      "cell_type": "markdown",
      "metadata": {
        "id": "kixmQkEJq8xb",
        "colab_type": "text"
      },
      "source": [
        "## New features"
      ]
    },
    {
      "cell_type": "markdown",
      "metadata": {
        "id": "YAHcGyuS9Q5o",
        "colab_type": "text"
      },
      "source": [
        "### Clustering\n",
        "```\n",
        "# too long for computation\n",
        "```"
      ]
    },
    {
      "cell_type": "code",
      "metadata": {
        "id": "80ZhiBHM9qch",
        "colab_type": "code",
        "colab": {}
      },
      "source": [
        "%%time\n",
        "cluster_range = [2]\n",
        "for n in cluster_range:\n",
        "    cluster_clf = MiniBatchKMeans(n_clusters=n, batch_size=1000)\n",
        "    cluster_labels = cluster_clf.fit_predict(X_train)\n",
        "    silhouette_avg = silhouette_score(X_train, cluster_labels)\n",
        "    print(f'For {n} clusters the silhouette score is: {silhouette_avg}')"
      ],
      "execution_count": 0,
      "outputs": []
    },
    {
      "cell_type": "markdown",
      "metadata": {
        "id": "tIVvNjDAYPAW",
        "colab_type": "text"
      },
      "source": [
        "### Mahalanobis"
      ]
    },
    {
      "cell_type": "code",
      "metadata": {
        "id": "d2hHTJXHKaBN",
        "colab_type": "code",
        "colab": {}
      },
      "source": [
        " # Rolling averages"
      ],
      "execution_count": 0,
      "outputs": []
    },
    {
      "cell_type": "markdown",
      "metadata": {
        "id": "sjCB-4vMz4W7",
        "colab_type": "text"
      },
      "source": [
        "### Time features"
      ]
    },
    {
      "cell_type": "code",
      "metadata": {
        "id": "ZBo2jlIBz6j5",
        "colab_type": "code",
        "colab": {}
      },
      "source": [
        "# Adding shifted features (pd.shift)\n",
        "# https://www.kaggle.com/aquatic/flexible-lead-lag-feature-generation\n",
        "\n",
        "def add_orig_ind_cols(dfs):\n",
        "    '''\n",
        "    Add tracker column for original df orders\n",
        "    '''\n",
        "    for df in dfs:\n",
        "        df['orig_ind'] = df.index.values\n",
        " \n",
        "def restore_orig_orders(dfs):\n",
        "    '''\n",
        "    Restore original df orders, assumes an 'orig_ind' column\n",
        "    '''       \n",
        "    for df in dfs:\n",
        "        df.sort_values(by='orig_ind', inplace=True)\n",
        "        df.drop(['orig_ind'], axis=1, inplace=True)\n",
        "    \n",
        "def add_grouped_time_delta_features(df, time_col, group_cols, shifts):    \n",
        "    '''\n",
        "    For epoch time, compute deltas with the specified shift on sequences\n",
        "    aggregated by group_cols, return df with new columns\n",
        "    '''\n",
        "    \n",
        "    # sort by time\n",
        "    df = df.sort_values(by=time_col)\n",
        "    \n",
        "    for shift in shifts:\n",
        "        feat_name = '_'.join(group_cols) + ('_delta_shift_%d' % shift) \n",
        "        \n",
        "        df[feat_name] = (df.groupby(group_cols)\n",
        "                            [time_col].shift(shift) - df[time_col]).astype(np.float32)\n",
        "        df[feat_name] = df[feat_name] * -1 * np.sign(shift) # flip sign for lags\n",
        "        df[feat_name] = df[feat_name].fillna(-1).astype('uint32')\n",
        "        \n",
        "    return df\n",
        "\n",
        "# Rolling window statistics (pd.rolling, pd.ewm)\n",
        "# Expanding window statistics (pd.expanding)\n",
        "# Lags https://www.kaggle.com/nareyko/fast-lags-calculation-concept-using-numpy-arrays/comments\n",
        "# Lags https://www.kaggle.com/c/rossmann-store-sales/discussion/17919"
      ],
      "execution_count": 0,
      "outputs": []
    },
    {
      "cell_type": "code",
      "metadata": {
        "id": "v1m7pdhZKcAx",
        "colab_type": "code",
        "colab": {}
      },
      "source": [
        ""
      ],
      "execution_count": 0,
      "outputs": []
    },
    {
      "cell_type": "code",
      "metadata": {
        "id": "g6AI8U5_koim",
        "colab_type": "code",
        "colab": {}
      },
      "source": [
        "# Cols union\n",
        "def cols_union(df_1: pd.DataFrame, df_2: pd.DataFrame,\n",
        "               col_1: str, col_2: str) -> pd.DataFrame:\n",
        "\n",
        "    df_1[col_1 + '_' + col_2] = df_1[col_1].astype(str) + '_' + df_1[col_2].astype(str)\n",
        "    df_2[col_1 + '_' + col_2] = df_2[col_1].astype(str) + '_' + df_2[col_2].astype(str)\n",
        "\n",
        "cols_union(X_train, X_test, 'card1', 'card2')\n",
        "cols_union(X_train, X_test, 'card1', 'addr1')\n",
        "cols_union(X_train, X_test, 'card2', 'addr1')"
      ],
      "execution_count": 0,
      "outputs": []
    },
    {
      "cell_type": "markdown",
      "metadata": {
        "id": "9T8fF971rOYT",
        "colab_type": "text"
      },
      "source": [
        "## Categorical encoding"
      ]
    },
    {
      "cell_type": "markdown",
      "metadata": {
        "id": "yA7TZDuZ6pUj",
        "colab_type": "text"
      },
      "source": [
        "### Target encoding"
      ]
    },
    {
      "cell_type": "code",
      "metadata": {
        "id": "9SXf7XK37Oth",
        "colab_type": "code",
        "colab": {}
      },
      "source": [
        "class Model:\n",
        "    def __init__(self, encoders_names=None, cat_cols=None,\n",
        "                 model_validation=StratifiedKFold(n_splits=2, shuffle=False, random_state=42),\n",
        "                 model_params=None):\n",
        "        self.encoders_names = encoders_names\n",
        "        self.cat_cols = cat_cols\n",
        "        self.model_validation = model_validation\n",
        "\n",
        "        if model_params is None:\n",
        "            self.model_params = {\"loss_function\": \"Logloss\", \"iterations\": 200,\n",
        "                                 \"task_type\": 'GPU', \"devices\": '0:1',\n",
        "                                 'custom_metric': 'AUC', 'depth': 6, \n",
        "                                 'learning_rate': 0.03, 'metric_period': 200,\n",
        "                                 'early_stopping_rounds': 50}\n",
        "        else:\n",
        "            self.model_params = model_params\n",
        "\n",
        "        self.encoders_list = []\n",
        "        self.models_list = []\n",
        "        self.scores_list_train = []\n",
        "        self.scores_list_val = []\n",
        "        self.models_trees = []\n",
        "\n",
        "    def fit(self, X: pd.DataFrame, y: np.array) -> tuple:\n",
        "\n",
        "        for n_fold, (train_idx, val_idx) in enumerate(self.model_validation.split(X, y)):\n",
        "            X_train, X_val = X.loc[train_idx].reset_index(drop=True), X.loc[val_idx].reset_index(drop=True)\n",
        "            y_train, y_val = y[train_idx], y[val_idx]\n",
        "            print(f\"shapes before encoder : \", X_train.shape, X_val.shape)\n",
        "            \n",
        "            encoder = DoubleValidationEncoderNumerical(cols=self.cat_cols, encoders_names_tuple=self.encoders_names)\n",
        "            X_train = encoder.fit_transform(X_train, y_train)\n",
        "            X_val = encoder.transform(X_val)\n",
        "            self.encoders_list.append(encoder)\n",
        "            \n",
        "            # check for OrdinalEncoder encoding\n",
        "            for col in [col for col in X_train.columns if \"OrdinalEncoder\" in col]:\n",
        "                X_train[col] = X_train[col].astype(\"category\")\n",
        "                X_val[col] = X_val[col].astype(\"category\")\n",
        "\n",
        "            \n",
        "            # fit model\n",
        "            print(f\"shapes before model : \", X_train.shape, X_val.shape)\n",
        "            model = CatBoostClassifier(**self.model_params)\n",
        "            model.fit(X_train, y_train, eval_set=(X_val, y_val))\n",
        "            self.models_trees.append(model.get_best_iteration())\n",
        "            self.models_list.append(model)\n",
        "\n",
        "            y_hat = model.predict_proba(X_train)[:, 1]\n",
        "            score_train = roc_auc_score(y_train, y_hat)\n",
        "            self.scores_list_train.append(score_train)\n",
        "            y_hat = model.predict_proba(X_val)[:, 1]\n",
        "            score_val = roc_auc_score(y_val, y_hat)\n",
        "            self.scores_list_val.append(score_val)\n",
        "\n",
        "            print(f\"AUC on {n_fold} fold train : {np.round(score_train, 4)}\\n\\n \")\n",
        "            print(f\"AUC on {n_fold} fold val : {np.round(score_val, 4)}\\n\\n \")\n",
        "\n",
        "        mean_score_train = np.mean(self.scores_list_train)\n",
        "        mean_score_val = np.mean(self.scores_list_val)\n",
        "        avg_num_trees = int(np.mean(self.models_trees))\n",
        "        print(f\"\\n\\n Mean score train : {np.round(mean_score_train, 4)} \")\n",
        "        print(f\"\\n\\n Mean score val : {np.round(mean_score_val, 4)}\\n\\n \")\n",
        "        return mean_score_train, mean_score_val, avg_num_trees\n",
        "\n",
        "    def predict(self, X: pd.DataFrame) -> np.array:\n",
        "        y_hat = np.zeros(X.shape[0])\n",
        "        for encoder, model in zip(self.encoders_list, self.models_list):\n",
        "            X_test = X.copy()\n",
        "            X_test = encoder.transform(X_test)\n",
        "\n",
        "            # check for OrdinalEncoder encoding\n",
        "            for col in [col for col in X_test.columns if \"OrdinalEncoder\" in col]:\n",
        "                X_test[col] = X_test[col].astype(\"category\")\n",
        "\n",
        "            unranked_preds = model.predict_proba(X_test)[:, 1]\n",
        "            y_hat += rankdata(unranked_preds)\n",
        "        return y_hat, X_test.shape[1]\n",
        "\n",
        "\n",
        "def get_single_encoder(encoder_name: str, cat_cols: list): \n",
        "    \"\"\"\n",
        "    Get encoder by its name\n",
        "    :param encoder_name: Name of desired encoder\n",
        "    :param cat_cols: Cat columns for encoding\n",
        "    :return: Categorical encoder\n",
        "    \"\"\"\n",
        "    if encoder_name == \"FrequencyEncoder\":\n",
        "        encoder = FrequencyEncoder(cols=cat_cols)\n",
        "\n",
        "    if encoder_name == \"WOEEncoder\":\n",
        "        encoder = WOEEncoder(cols=cat_cols)\n",
        "\n",
        "    if encoder_name == \"TargetEncoder\":\n",
        "        encoder = TargetEncoder(cols=cat_cols)\n",
        "\n",
        "    if encoder_name == \"SumEncoder\":\n",
        "        encoder = SumEncoder(cols=cat_cols)\n",
        "\n",
        "    if encoder_name == \"MEstimateEncoder\":\n",
        "        encoder = MEstimateEncoder(cols=cat_cols)\n",
        "\n",
        "    if encoder_name == \"LeaveOneOutEncoder\":\n",
        "        encoder = LeaveOneOutEncoder(cols=cat_cols)\n",
        "\n",
        "    if encoder_name == \"HelmertEncoder\":\n",
        "        encoder = HelmertEncoder(cols=cat_cols)\n",
        "\n",
        "    if encoder_name == \"BackwardDifferenceEncoder\":\n",
        "        encoder = BackwardDifferenceEncoder(cols=cat_cols)\n",
        "\n",
        "    if encoder_name == \"JamesSteinEncoder\":\n",
        "        encoder = JamesSteinEncoder(cols=cat_cols)\n",
        "\n",
        "    if encoder_name == \"OrdinalEncoder\":\n",
        "        encoder = OrdinalEncoder(cols=cat_cols)\n",
        "\n",
        "    if encoder_name == \"CatBoostEncoder\":\n",
        "        encoder = CatBoostEncoder(cols=cat_cols)\n",
        "\n",
        "    if encoder_name == \"MEstimateEncoder\":\n",
        "        encoder = MEstimateEncoder(cols=cat_cols)\n",
        "    return encoder\n",
        "\n",
        "\n",
        "class DoubleValidationEncoderNumerical:\n",
        "    \"\"\"\n",
        "    Encoder with validation within\n",
        "    \"\"\"\n",
        "    def __init__(self, cols, encoders_names_tuple=()):\n",
        "        \"\"\"\n",
        "        :param cols: Categorical columns\n",
        "        :param encoders_names_tuple: Tuple of str with encoders\n",
        "        \"\"\"\n",
        "        self.cols, self.num_cols = cols, None\n",
        "        self.encoders_names_tuple = encoders_names_tuple\n",
        "\n",
        "        self.n_folds, self.n_repeats = 5, 2\n",
        "        self.model_validation = RepeatedStratifiedKFold(n_splits=self.n_folds, n_repeats=self.n_repeats, random_state=42)\n",
        "        self.encoders_dict = {}\n",
        "\n",
        "        self.storage = None\n",
        "\n",
        "    def fit_transform(self, X: pd.DataFrame, y: np.array) -> pd.DataFrame:\n",
        "        self.num_cols = [col for col in X.columns if col not in self.cols]\n",
        "        self.storage = []\n",
        "\n",
        "        for encoder_name in self.encoders_names_tuple:\n",
        "            for n_fold, (train_idx, val_idx) in enumerate(self.model_validation.split(X, y)):\n",
        "                encoder = get_single_encoder(encoder_name, self.cols)\n",
        "\n",
        "                X_train, X_val = X.loc[train_idx].reset_index(drop=True), X.loc[val_idx].reset_index(drop=True)\n",
        "                y_train, y_val = y[train_idx], y[val_idx]\n",
        "                _ = encoder.fit_transform(X_train, y_train)\n",
        "\n",
        "                # transform validation part and get all necessary cols\n",
        "                val_t = encoder.transform(X_val)\n",
        "                val_t = val_t[[col for col in val_t.columns if col not in self.num_cols]]\n",
        "                val_t = val_t.values\n",
        "\n",
        "                if encoder_name not in self.encoders_dict.keys():\n",
        "                    cols_representation = np.zeros((X.shape[0], val_t.shape[1]))\n",
        "                    self.encoders_dict[encoder_name] = [encoder]\n",
        "                else:\n",
        "                    self.encoders_dict[encoder_name].append(encoder)\n",
        "\n",
        "                cols_representation[val_idx, :] += val_t / self.n_repeats\n",
        "\n",
        "            cols_representation_ = pd.DataFrame(cols_representation)\n",
        "            cols_representation_.columns = [f'encoded_{encoder_name}_{i}' for i in range(cols_representation_.shape[1])]\n",
        "            self.storage.append(cols_representation_)\n",
        "\n",
        "        for df in self.storage:\n",
        "            X = pd.concat([X, df], axis=1)\n",
        "\n",
        "        X = X.drop(self.cols, axis=1)\n",
        "        return X\n",
        "    \n",
        "    def transform(self, X: pd.DataFrame) -> pd.DataFrame:\n",
        "        self.storage = []\n",
        "        for encoder_name in self.encoders_names_tuple:\n",
        "            cols_representation = None\n",
        "\n",
        "            for encoder in self.encoders_dict[encoder_name]:\n",
        "                test_tr = encoder.transform(X)\n",
        "                test_tr = test_tr[[col for col in test_tr.columns if col not in self.num_cols]].values\n",
        "\n",
        "                if cols_representation is None:\n",
        "                    cols_representation = np.zeros(test_tr.shape)\n",
        "\n",
        "                cols_representation = cols_representation + test_tr / self.n_folds / self.n_repeats\n",
        "\n",
        "            cols_representation_ = pd.DataFrame(cols_representation)\n",
        "            cols_representation_.columns = [f'encoded_{encoder_name}_{i}' for i in range(cols_representation_.shape[1])]\n",
        "            self.storage.append(cols_representation_)\n",
        "\n",
        "        for df in self.storage:\n",
        "            X = pd.concat([X, df], axis=1)\n",
        "\n",
        "        X = X.drop(self.cols, axis=1)\n",
        "        return X"
      ],
      "execution_count": 0,
      "outputs": []
    },
    {
      "cell_type": "markdown",
      "metadata": {
        "colab_type": "text",
        "id": "1hh8ZIWTZsXA"
      },
      "source": [
        "## Feature selection\n",
        " * PCA for V-features with similar NaN pattern\n",
        " * time consistency (train on one or small amount of features on the first month - predict for the last month) \n",
        " *"
      ]
    },
    {
      "cell_type": "markdown",
      "metadata": {
        "colab_type": "text",
        "id": "U4wJKY4aZsXB"
      },
      "source": [
        "#### Matrix Decomposition for V-features\n",
        "\n",
        "```\n",
        "No train/val score improvement but there is lb improvement\n",
        "```"
      ]
    },
    {
      "cell_type": "code",
      "metadata": {
        "colab_type": "code",
        "id": "rMJSgAh5ZsXB",
        "colab": {}
      },
      "source": [
        "%%time\n",
        "clf_decompositors = [PCA()]\n",
        "\n",
        "def feature_reduction(clfs, number):\n",
        "    scores = pd.DataFrame()\n",
        "    for clf in clfs:\n",
        "        for n in number:\n",
        "            clf.n_components = n\n",
        "            train_x, test_x, train_y, test_y = train_test_split(X_train, y_train, test_size=0.3, shuffle=False, random_state=31)\n",
        "            \n",
        "            start_time = time.clock()\n",
        "            v_transformed_train = pd.DataFrame(clf.fit_transform(train_x.loc[:, 'V1':'V339']), columns=[str(x) for x in range(n)])\n",
        "            train_x = train_x.drop(train_x.loc[:, 'V1':'V339'].columns, axis=1)\n",
        "            train_x = train_x.join(v_transformed_train)\n",
        "            \n",
        "            v_transformed_test = pd.DataFrame(clf.transform(test_x.loc[:, 'V1':'V339']), columns=[str(x) for x in range(n)])\n",
        "            test_x = test_x.drop(test_x.loc[:, 'V1':'V339'].columns, axis=1)\n",
        "            test_x = test_x.join(v_transformed_test)\n",
        "            end_time = time.clock()\n",
        "            \n",
        "            train_data = lgb.Dataset(train_x, label=train_y, feature_name=train_x.columns.to_list(),\n",
        "                             categorical_feature=cat_cols)\n",
        "            validation_data = lgb.Dataset(test_x, label=test_y, feature_name=test_x.columns.to_list(),\n",
        "                                  categorical_feature=cat_cols, reference=train_data)\n",
        "            param = {\n",
        "            'objective': 'binary',\n",
        "            'num_iterations': 200,\n",
        "            'learning_rate': 0.05,\n",
        "            'n_jobs': -1,\n",
        "            'reg_alpha': 0.1,\n",
        "            'min_split_gain': 0.1,\n",
        "            'bagging_fraction': 0.5,\n",
        "            'bagging_freq': 5,\n",
        "            'pos_bagging_fraction': 0.5,\n",
        "            'neg_bagging_fraction': 0.5,\n",
        "            'feature_fraction': 0.5,\n",
        "            'verbose': 0,\n",
        "            'metric': ['auc', 'binary_logloss']\n",
        "            }\n",
        "            \n",
        "            bst = lgb.train(param, train_data, valid_sets=[train_data, validation_data], feval=mcc_eval, verbose_eval=40)\n",
        "            tmp = {}\n",
        "            tmp['n_comp'] = n\n",
        "            tmp['train_auc'] = bst.best_score['training']['auc']\n",
        "            tmp['valid_auc'] = bst.best_score['valid_1']['auc']\n",
        "            tmp['train_binary_logloss'] = bst.best_score['training']['binary_logloss']\n",
        "            tmp['valid_binary_logloss'] = bst.best_score['valid_1']['binary_logloss']\n",
        "            tmp['train_mcc'] = bst.best_score['training']['MCC']\n",
        "            tmp['valid_mcc'] = bst.best_score['valid_1']['MCC']\n",
        "            tmp['exp_var'] = np.cumsum(clf.explained_variance_ratio_)\n",
        "            tmp['time'] = end_time - start_time\n",
        "            scores = scores.append(tmp, ignore_index=True)\n",
        "    return scores\n",
        "\n",
        "table = feature_reduction(clf_decompositors, [x for x in range(1, 21, 1)])"
      ],
      "execution_count": 0,
      "outputs": []
    },
    {
      "cell_type": "code",
      "metadata": {
        "colab_type": "code",
        "outputId": "b61ce391-d2a4-4d0a-9fe7-d7de64b8107e",
        "id": "c6RAPBS_ZsXC",
        "colab": {
          "base_uri": "https://localhost:8080/",
          "height": 283
        }
      },
      "source": [
        "sns.lineplot(data=table, x='n_comp', y='valid_auc')\n",
        "sns.lineplot(data=table, x='n_comp', y=0.89937)\n",
        "sns.lineplot(data=table, x='n_comp', y='train_auc')\n",
        "sns.lineplot(data=table, x='n_comp', y=0.951749)\n",
        "plt.show()\n",
        "\n",
        "# Seems like most linera space reduction techiniques doesn't provide any score impovement \n",
        "# n_comp = 6 for MCC score\n",
        "# n_comp = 1 for logloss score\n",
        "# n_comp = 1 for AUC score\n",
        "# We put MCC score over the others"
      ],
      "execution_count": 0,
      "outputs": [
        {
          "output_type": "display_data",
          "data": {
            "image/png": "[encoded data removed]",
            "text/plain": [
              "<Figure size 432x288 with 1 Axes>"
            ]
          },
          "metadata": {
            "tags": []
          }
        }
      ]
    },
    {
      "cell_type": "code",
      "metadata": {
        "colab_type": "code",
        "id": "pc8LlTqDZsXD",
        "colab": {}
      },
      "source": [
        "pca = PCA(n_components=6)\n",
        "vPCA_transformed_train = pd.DataFrame(pca.fit_transform(X_train.loc[:, 'V1':'V339']), columns=[f'vPCA_{x}' for x in range(6)])\n",
        "vPCA_transformed_test = pd.DataFrame(pca.transform(X_test.loc[:, 'V1':'V339']), columns=[f'vPCA_{x}' for x in range(6)])\n",
        "X_train = X_train.drop(X_train.loc[:, 'V1':'V339'].columns, axis=1)\n",
        "X_test = X_test.drop(X_test.loc[:, 'V1':'V339'].columns, axis=1)\n",
        "X_train = X_train.join(vPCA_transformed_train)\n",
        "X_test = X_test.join(vPCA_transformed_test)"
      ],
      "execution_count": 0,
      "outputs": []
    },
    {
      "cell_type": "code",
      "metadata": {
        "colab_type": "code",
        "outputId": "64c0320f-7fc8-48c5-8f09-78bdc414f6d9",
        "id": "eEJdt4DnZsXE",
        "colab": {
          "base_uri": "https://localhost:8080/",
          "height": 269
        }
      },
      "source": [
        "plt.plot(X_train['vPCA_0'])\n",
        "plt.show()"
      ],
      "execution_count": 0,
      "outputs": [
        {
          "output_type": "display_data",
          "data": {
            "image/png": "[encoded data removed]",
            "text/plain": [
              "<Figure size 432x288 with 1 Axes>"
            ]
          },
          "metadata": {
            "tags": []
          }
        }
      ]
    },
    {
      "cell_type": "code",
      "metadata": {
        "colab_type": "code",
        "outputId": "d2612827-f7ec-47ab-832b-f4caeaa1631e",
        "id": "23Jc9cBwZsXG",
        "colab": {
          "base_uri": "https://localhost:8080/",
          "height": 50
        }
      },
      "source": [
        "# Apply Scaler\n",
        "%%time\n",
        "vpca_cols = [f'vPCA_{x}' for x in range(6)]\n",
        "scaler = RobustScaler()\n",
        "\n",
        "def robust_scalar(df_train: pd.DataFrame, df_test: pd.DataFrame, cols=List[str]):\n",
        "    df_train[cols] = scaler.fit_transform(df_train[cols])\n",
        "    df_test[cols] = scaler.transform(df_test[cols])\n",
        "robust_scalar(X_train, X_test, vpca_cols)\n",
        "\n",
        "number_cols = list(set(X_train.columns) - set(cat_cols))\n",
        "number_cols\n",
        "\n",
        "bst = train_val_score(X_train, y_train)"
      ],
      "execution_count": 0,
      "outputs": [
        {
          "output_type": "stream",
          "text": [
            "CPU times: user 1.52 s, sys: 183 ms, total: 1.7 s\n",
            "Wall time: 1.71 s\n"
          ],
          "name": "stdout"
        }
      ]
    },
    {
      "cell_type": "code",
      "metadata": {
        "colab_type": "code",
        "outputId": "397cc1de-8cd8-419a-f24f-2e32b8a4aea3",
        "id": "2xmIQTFrZsXH",
        "colab": {
          "base_uri": "https://localhost:8080/",
          "height": 67
        }
      },
      "source": [
        "bst = train_val_score(X_train, y_train)\n",
        "# Submit base model to lb\n",
        "# --------------------------------------------------------------------------------------------- #\n",
        "y_test = bst.predict(X_test)\n",
        "submission = np.vstack([y_test_id['TransactionID'], y_test])\n",
        "submission = pd.DataFrame(submission.T, columns=['TransactionID', 'isFraud'])\n",
        "submission['TransactionID'] = submission['TransactionID'].astype(int) \n",
        "submission.to_csv(f'{root_path}submission.csv', index=False)\n",
        "!kaggle competitions submit -c ieee-fraud-detection -f '{root_path}submission.csv' -m \"vPCA model\"\n",
        "# --------------------------------------------------------------------------------------------- #"
      ],
      "execution_count": 0,
      "outputs": [
        {
          "output_type": "stream",
          "text": [
            "Warning: Looks like you're using an outdated API Version, please consider updating (server 1.5.6 / client 1.5.4)\n",
            "100% 13.9M/13.9M [00:02<00:00, 7.22MB/s]\n",
            "Successfully submitted to IEEE-CIS Fraud Detection"
          ],
          "name": "stdout"
        }
      ]
    },
    {
      "cell_type": "code",
      "metadata": {
        "colab_type": "code",
        "id": "vYkmKH-GZsXI",
        "colab": {}
      },
      "source": [
        "validation_scores = append_scores(validation_scores, bst, 'vPCA_2', 0.9087)"
      ],
      "execution_count": 0,
      "outputs": []
    },
    {
      "cell_type": "code",
      "metadata": {
        "colab_type": "code",
        "id": "RfP_OeSIZsXK",
        "colab": {}
      },
      "source": [
        "X_train.to_csv(f'{root_path}x_train.csv')\n",
        "X_test.to_csv(f'{root_path}x_test.csv')\n",
        "validation_scores.to_csv(f'{root_path}validation_scores')\n",
        "number_cols.to_csv(f'{root_path}number_cols.csv')"
      ],
      "execution_count": 0,
      "outputs": []
    },
    {
      "cell_type": "markdown",
      "metadata": {
        "colab_type": "text",
        "id": "IykHrGXyZsXL"
      },
      "source": [
        "#### Discirminant Analys for V-features\n",
        "```\n",
        "No improvement\n",
        "```"
      ]
    },
    {
      "cell_type": "code",
      "metadata": {
        "colab_type": "code",
        "id": "zrBTcy-HZsXL",
        "colab": {}
      },
      "source": [
        "lda = LinearDiscriminantAnalysis()\n",
        "clf_decompositors = [lda]\n",
        "\n",
        "def v_feature_discriminant_analysis(clfs, number):\n",
        "    scores = pd.DataFrame(columns=['Decompositor', 'n_comp', 'auc', 'binary_logloss'])\n",
        "    for n in number:\n",
        "        for clf in clfs:\n",
        "            clf.n_components = n\n",
        "            train_x, test_x, train_y, test_y = train_test_split(X_train, y_train, test_size=0.3, shuffle=False, random_state=31)\n",
        "            v_transformed_train = pd.DataFrame(clf.fit_transform(train_x.loc[:, 'V1':'V339'], train_y), columns=[str(x) for x in range(n)])\n",
        "            train_x = train_x.drop(train_x.loc[:, 'V1':'V339'].columns, axis=1)\n",
        "            train_x = train_x.join(v_transformed_train)\n",
        "            \n",
        "            v_transformed_test = pd.DataFrame(clf.transform(test_x.loc[:, 'V1':'V339']), columns=[str(x) for x in range(n)])\n",
        "            test_x = test_x.drop(test_x.loc[:, 'V1':'V339'].columns, axis=1)\n",
        "            test_x = test_x.join(v_transformed_test)\n",
        "            \n",
        "\n",
        "            train_data = lgb.Dataset(train_x, label=train_y, feature_name=train_x.columns.to_list(),\n",
        "                             categorical_feature=cat_cols)\n",
        "            validation_data = lgb.Dataset(test_x, label=test_y, feature_name=test_x.columns.to_list(),\n",
        "                                  categorical_feature=cat_cols, reference=train_data)\n",
        "            param = {\n",
        "            'objective': 'binary',\n",
        "            'num_iterations': 200,\n",
        "            'learning_rate': 0.05,\n",
        "            'n_jobs': -1,\n",
        "            'reg_alpha': 0.1,\n",
        "            'min_split_gain': 0.1,\n",
        "            'bagging_fraction': 0.5,\n",
        "            'bagging_freq': 5,\n",
        "            'pos_bagging_fraction': 0.5,\n",
        "            'neg_bagging_fraction': 0.5,\n",
        "            'feature_fraction': 0.5,\n",
        "            'verbose': 0,\n",
        "            'metric': ['auc', 'binary_logloss']\n",
        "            }\n",
        "\n",
        "            bst = lgb.train(param, train_data, valid_sets=[validation_data])\n",
        "            tmp = {}\n",
        "            tmp['Decompositor'] = str(clf).split('(')[0]\n",
        "            tmp['n_comp'] = n\n",
        "            tmp['auc'] = bst.best_score['valid_0']['auc']\n",
        "            tmp['binary_logloss'] = bst.best_score['valid_0']['binary_logloss']\n",
        "            scores = scores.append(tmp, ignore_index=True)\n",
        "    return scores\n",
        "\n",
        "table = v_feature_discriminant_analysis(clf_decompositors, [1])\n",
        "print(table)\n",
        "\n",
        "# Scores even worse"
      ],
      "execution_count": 0,
      "outputs": []
    },
    {
      "cell_type": "markdown",
      "metadata": {
        "colab_type": "text",
        "id": "KaZF99TTZsXN"
      },
      "source": [
        "### Numeric features"
      ]
    },
    {
      "cell_type": "markdown",
      "metadata": {
        "colab_type": "text",
        "id": "EvXVMFMJZsXO"
      },
      "source": [
        "#### Correlation criteria"
      ]
    },
    {
      "cell_type": "code",
      "metadata": {
        "colab_type": "code",
        "outputId": "bdb4d631-fc1d-4a20-bba2-30ba0fb43b8a",
        "id": "1ljb-HMJZsXV",
        "colab": {
          "base_uri": "https://localhost:8080/",
          "height": 339
        }
      },
      "source": [
        "def corr_feature_analysis(number):\n",
        "    scores = pd.DataFrame()\n",
        "    corr_matrix_number = X_train.loc[:, number_cols].corr().abs()\n",
        "    upper_number = corr_matrix_number.where(np.triu(np.ones(corr_matrix_number.shape), k=1).astype(np.bool))\n",
        "    for n in number:\n",
        "        cols_to_drop_number = [column for column in upper_number.columns if any(upper_number[column] > n)]\n",
        "        train_x, test_x, train_y, test_y = train_test_split(X_train, y_train, test_size=0.3, shuffle=False, random_state=31)\n",
        "        train_x = train_x.drop(cols_to_drop_number, axis=1)\n",
        "        test_x = test_x.drop(cols_to_drop_number, axis=1)\n",
        "        train_data = lgb.Dataset(train_x, label=train_y, feature_name=train_x.columns.to_list(),\n",
        "                         categorical_feature=cat_cols)\n",
        "        validation_data = lgb.Dataset(test_x, label=test_y, feature_name=test_x.columns.to_list(),\n",
        "                              categorical_feature=cat_cols, reference=train_data)\n",
        "        param = {\n",
        "        'objective': 'binary',\n",
        "        'num_iterations': 200,\n",
        "        'learning_rate': 0.05,\n",
        "        'n_jobs': -1,\n",
        "        'reg_alpha': 0.1,\n",
        "        'min_split_gain': 0.1,\n",
        "        'bagging_fraction': 0.5,\n",
        "        'bagging_freq': 5,\n",
        "        'pos_bagging_fraction': 0.5,\n",
        "        'neg_bagging_fraction': 0.5,\n",
        "        'feature_fraction': 0.5,\n",
        "        'verbose': 0,\n",
        "        'metric': ['auc', 'binary_logloss']\n",
        "        }\n",
        "        bst = lgb.train(param, train_data, valid_sets=[train_data, validation_data], feval=mcc_eval, verbose_eval=200)\n",
        "        tmp = {}\n",
        "        tmp['corr'] = n\n",
        "        tmp['train_auc'] = bst.best_score['training']['auc']\n",
        "        tmp['valid_auc'] = bst.best_score['valid_1']['auc']\n",
        "        tmp['train_binary_logloss'] = bst.best_score['training']['binary_logloss']\n",
        "        tmp['valid_binary_logloss'] = bst.best_score['valid_1']['binary_logloss']\n",
        "        tmp['train_mcc'] = bst.best_score['training']['MCC']\n",
        "        tmp['valid_mcc'] = bst.best_score['valid_1']['MCC']\n",
        "        scores = scores.append(tmp, ignore_index=True)\n",
        "    return scores\n",
        "\n",
        "table = corr_feature_analysis([0.92, 0.9, 0.89, 0.88, 0.87, 0.86, 0.85, 0.84, 0.83, 0.82, 0.81, 0.8])\n",
        "\n",
        "# the most interesting thresholds are 0.92 and 0.85"
      ],
      "execution_count": 0,
      "outputs": [
        {
          "output_type": "stream",
          "text": [
            "/usr/local/lib/python3.6/dist-packages/lightgbm/engine.py:118: UserWarning: Found `num_iterations` in params. Will use it instead of argument\n",
            "  warnings.warn(\"Found `{}` in params. Will use it instead of argument\".format(alias))\n",
            "/usr/local/lib/python3.6/dist-packages/lightgbm/basic.py:1205: UserWarning: Using categorical_feature in Dataset.\n",
            "  warnings.warn('Using categorical_feature in Dataset.')\n",
            "/usr/local/lib/python3.6/dist-packages/lightgbm/basic.py:762: UserWarning: categorical_feature in param dict is overridden.\n",
            "  warnings.warn('categorical_feature in param dict is overridden.')\n"
          ],
          "name": "stderr"
        },
        {
          "output_type": "stream",
          "text": [
            "[200]\ttraining's binary_logloss: 0.0694645\ttraining's auc: 0.948159\ttraining's MCC: 0.68246\tvalid_1's binary_logloss: 0.0934378\tvalid_1's auc: 0.896382\tvalid_1's MCC: 0.503076\n",
            "[200]\ttraining's binary_logloss: 0.0694722\ttraining's auc: 0.948597\ttraining's MCC: 0.681157\tvalid_1's binary_logloss: 0.0937178\tvalid_1's auc: 0.896318\tvalid_1's MCC: 0.492584\n",
            "[200]\ttraining's binary_logloss: 0.0694722\ttraining's auc: 0.948597\ttraining's MCC: 0.681157\tvalid_1's binary_logloss: 0.0937178\tvalid_1's auc: 0.896318\tvalid_1's MCC: 0.492584\n",
            "[200]\ttraining's binary_logloss: 0.0694722\ttraining's auc: 0.948597\ttraining's MCC: 0.681157\tvalid_1's binary_logloss: 0.0937178\tvalid_1's auc: 0.896318\tvalid_1's MCC: 0.492584\n",
            "[200]\ttraining's binary_logloss: 0.0694722\ttraining's auc: 0.948597\ttraining's MCC: 0.681157\tvalid_1's binary_logloss: 0.0937178\tvalid_1's auc: 0.896318\tvalid_1's MCC: 0.492584\n",
            "[200]\ttraining's binary_logloss: 0.0694722\ttraining's auc: 0.948597\ttraining's MCC: 0.681157\tvalid_1's binary_logloss: 0.0937178\tvalid_1's auc: 0.896318\tvalid_1's MCC: 0.492584\n",
            "[200]\ttraining's binary_logloss: 0.0694354\ttraining's auc: 0.948782\ttraining's MCC: 0.682351\tvalid_1's binary_logloss: 0.0932189\tvalid_1's auc: 0.898233\tvalid_1's MCC: 0.498202\n",
            "[200]\ttraining's binary_logloss: 0.0694354\ttraining's auc: 0.948782\ttraining's MCC: 0.682351\tvalid_1's binary_logloss: 0.0932189\tvalid_1's auc: 0.898233\tvalid_1's MCC: 0.498202\n",
            "[200]\ttraining's binary_logloss: 0.0699653\ttraining's auc: 0.947951\ttraining's MCC: 0.678015\tvalid_1's binary_logloss: 0.0938662\tvalid_1's auc: 0.895709\tvalid_1's MCC: 0.498013\n",
            "[200]\ttraining's binary_logloss: 0.0699653\ttraining's auc: 0.947951\ttraining's MCC: 0.678015\tvalid_1's binary_logloss: 0.0938662\tvalid_1's auc: 0.895709\tvalid_1's MCC: 0.498013\n",
            "[200]\ttraining's binary_logloss: 0.0699653\ttraining's auc: 0.947951\ttraining's MCC: 0.678015\tvalid_1's binary_logloss: 0.0938662\tvalid_1's auc: 0.895709\tvalid_1's MCC: 0.498013\n",
            "[200]\ttraining's binary_logloss: 0.0699653\ttraining's auc: 0.947951\ttraining's MCC: 0.678015\tvalid_1's binary_logloss: 0.0938662\tvalid_1's auc: 0.895709\tvalid_1's MCC: 0.498013\n"
          ],
          "name": "stdout"
        }
      ]
    },
    {
      "cell_type": "code",
      "metadata": {
        "colab_type": "code",
        "id": "C5IvASIcZsXW",
        "colab": {}
      },
      "source": [
        "corr_matrix_number = X_train.loc[:, number_cols].corr().abs()\n",
        "upper_number = corr_matrix_number.where(np.triu(np.ones(corr_matrix_number.shape), k=1).astype(np.bool))\n",
        "cols_to_drop_number = [column for column in upper_number.columns if any(upper_number[column] > 0.92)]\n",
        "X_train = X_train.drop(cols_to_drop_number, axis=1)\n",
        "X_test = X_test.drop(cols_to_drop_number, axis=1)"
      ],
      "execution_count": 0,
      "outputs": []
    },
    {
      "cell_type": "code",
      "metadata": {
        "colab_type": "code",
        "outputId": "6eff9bd8-805b-4b5f-a12a-892d6d37ecd1",
        "id": "WJux-GEyZsXX",
        "colab": {
          "base_uri": "https://localhost:8080/",
          "height": 205
        }
      },
      "source": [
        "bst = train_val_score(X_train, y_train)\n",
        "# Submit base model to lb\n",
        "# --------------------------------------------------------------------------------------------- #\n",
        "y_test = bst.predict(X_test)\n",
        "submission = np.vstack([y_test_id['TransactionID'], y_test])\n",
        "submission = pd.DataFrame(submission.T, columns=['TransactionID', 'isFraud'])\n",
        "submission['TransactionID'] = submission['TransactionID'].astype(int) \n",
        "submission.to_csv(f'{root_path}submission.csv', index=False)\n",
        "!kaggle competitions submit -c ieee-fraud-detection -f '{root_path}submission.csv' -m \"vPCA model\"\n",
        "# --------------------------------------------------------------------------------------------- #"
      ],
      "execution_count": 0,
      "outputs": [
        {
          "output_type": "stream",
          "text": [
            "/usr/local/lib/python3.6/dist-packages/lightgbm/engine.py:118: UserWarning: Found `num_iterations` in params. Will use it instead of argument\n",
            "  warnings.warn(\"Found `{}` in params. Will use it instead of argument\".format(alias))\n",
            "/usr/local/lib/python3.6/dist-packages/lightgbm/basic.py:1205: UserWarning: Using categorical_feature in Dataset.\n",
            "  warnings.warn('Using categorical_feature in Dataset.')\n",
            "/usr/local/lib/python3.6/dist-packages/lightgbm/basic.py:762: UserWarning: categorical_feature in param dict is overridden.\n",
            "  warnings.warn('categorical_feature in param dict is overridden.')\n"
          ],
          "name": "stderr"
        },
        {
          "output_type": "stream",
          "text": [
            "[200]\ttraining's binary_logloss: 0.0694645\ttraining's auc: 0.948159\ttraining's MCC: 0.68246\tvalid_1's binary_logloss: 0.0934378\tvalid_1's auc: 0.896382\tvalid_1's MCC: 0.503076\n",
            "Warning: Looks like you're using an outdated API Version, please consider updating (server 1.5.6 / client 1.5.4)\n",
            "100% 13.9M/13.9M [00:02<00:00, 6.02MB/s]\n",
            "Successfully submitted to IEEE-CIS Fraud Detection"
          ],
          "name": "stdout"
        }
      ]
    },
    {
      "cell_type": "code",
      "metadata": {
        "colab_type": "code",
        "id": "AG3GgVMGZsXY",
        "colab": {}
      },
      "source": [
        "validation_scores = append_scores(validation_scores, bst, 'Correlated_feat_rem_2', 0.9088)"
      ],
      "execution_count": 0,
      "outputs": []
    },
    {
      "cell_type": "markdown",
      "metadata": {
        "colab_type": "text",
        "id": "sLGLob5IZsXZ"
      },
      "source": [
        "#### Anova"
      ]
    },
    {
      "cell_type": "code",
      "metadata": {
        "colab_type": "code",
        "outputId": "d987d341-2e6c-4d45-bebf-d1e2bf2310a1",
        "id": "zmKuI3GbZsXa",
        "colab": {
          "base_uri": "https://localhost:8080/",
          "height": 70
        }
      },
      "source": [
        "Fvalue_selector = SelectKBest(f_classif, k=len(number_cols))\n",
        "Fvalue_selector.fit_transform(X_train.loc[:, number_cols], y_train)\n",
        "df_Fvalue = pd.DataFrame(Fvalue_selector.scores_, columns=['F-value'])\n",
        "df_Fvalue['columns'] = number_cols\n",
        "df_Fvalue = df_Fvalue.sort_values(by='F-value', ascending=False)"
      ],
      "execution_count": 0,
      "outputs": [
        {
          "output_type": "stream",
          "text": [
            "/usr/local/lib/python3.6/dist-packages/sklearn/utils/validation.py:724: DataConversionWarning: A column-vector y was passed when a 1d array was expected. Please change the shape of y to (n_samples, ), for example using ravel().\n",
            "  y = column_or_1d(y, warn=True)\n"
          ],
          "name": "stderr"
        }
      ]
    },
    {
      "cell_type": "code",
      "metadata": {
        "colab_type": "code",
        "outputId": "4b8b57c0-7919-42f2-b46d-caa588f2d9d5",
        "id": "VBNSVH6jZsXb",
        "colab": {
          "base_uri": "https://localhost:8080/",
          "height": 729
        }
      },
      "source": [
        "plt.figure(figsize=(14, 10))\n",
        "plt.title(\"F-value for continuous features\", fontsize=16)\n",
        "plt.xlabel(\"Continuous Features\", fontsize=14)\n",
        "plt.ylabel(\"F-value statistics\", fontsize=14)\n",
        "plt.xticks(fontsize=14)\n",
        "plt.yticks(fontsize=14)\n",
        "plt.bar(range(len(df_Fvalue)), df_Fvalue['F-value'], align='edge', color='rgbkymc')\n",
        "plt.xticks(range(len(df_Fvalue)), df_Fvalue['columns'], rotation=90, color='g')\n",
        "plt.show()"
      ],
      "execution_count": 0,
      "outputs": [
        {
          "output_type": "display_data",
          "data": {
            "image/png": "[encoded data removed]",
            "text/plain": [
              "<Figure size 1008x720 with 1 Axes>"
            ]
          },
          "metadata": {
            "tags": []
          }
        }
      ]
    },
    {
      "cell_type": "markdown",
      "metadata": {
        "colab_type": "text",
        "id": "QnrrnEO5ZsXc"
      },
      "source": [
        "### Categorical features"
      ]
    },
    {
      "cell_type": "markdown",
      "metadata": {
        "colab_type": "text",
        "id": "5hL3YY_EZsXd"
      },
      "source": [
        "#### Chi-square"
      ]
    },
    {
      "cell_type": "code",
      "metadata": {
        "colab_type": "code",
        "id": "lHGuz5OiZsXd",
        "colab": {}
      },
      "source": [
        "chi_selector = SelectKBest(chi2, k=len(cat_cols))\n",
        "chi_selector.fit_transform(X_train.loc[:, cat_cols], y_train)\n",
        "df_chi = pd.DataFrame(chi_selector.scores_, columns=['chi_score'])\n",
        "df_chi['columns_name'] = cat_cols\n",
        "df_chi = df_chi.sort_values(by=['chi_score'], ascending=True)"
      ],
      "execution_count": 0,
      "outputs": []
    },
    {
      "cell_type": "code",
      "metadata": {
        "colab_type": "code",
        "outputId": "c083a0a3-3425-4f00-a032-43d6f4184845",
        "id": "ViWNq45nZsXf",
        "colab": {
          "base_uri": "https://localhost:8080/",
          "height": 627
        }
      },
      "source": [
        "fig,ax=plt.subplots(figsize=(10,  10))\n",
        "plt.title(\"Chi-squared statistics for categorical features\", fontsize=16)\n",
        "plt.ylabel(\"Categorical Features\", fontsize=14)\n",
        "plt.xlabel(\"Chi-squared statistic\", fontsize=14)\n",
        "plt.barh(range(len(df_chi['chi_score'])), df_chi['chi_score'])\n",
        "plt.yticks(range(len(df_chi['chi_score'])), df_chi['columns_name'], fontsize=10)\n",
        "plt.show()"
      ],
      "execution_count": 0,
      "outputs": [
        {
          "output_type": "display_data",
          "data": {
            "image/png": "[encoded data removed]",
            "text/plain": [
              "<Figure size 720x720 with 1 Axes>"
            ]
          },
          "metadata": {
            "tags": []
          }
        }
      ]
    },
    {
      "cell_type": "code",
      "metadata": {
        "colab_type": "code",
        "outputId": "29d90372-bbb5-4c7e-e911-3e8fba15736e",
        "id": "PL7ykTZjZsXi",
        "colab": {
          "base_uri": "https://localhost:8080/",
          "height": 34
        }
      },
      "source": [
        "print('Feature with Chi-square statistic less than 1:', len(df_chi[df_chi['chi_score'] < 1]['columns_name']))\n",
        "cols_to_drop_cat = df_chi[df_chi['chi_score'] < 1]['columns_name'].to_list()\n",
        "X_train = X_train.drop(cols_to_drop_cat, axis=1)\n",
        "X_test = X_test.drop(cols_to_drop_cat, axis=1)"
      ],
      "execution_count": 0,
      "outputs": [
        {
          "output_type": "stream",
          "text": [
            "Feature with Chi-square statistic less than 1: 3\n"
          ],
          "name": "stdout"
        }
      ]
    },
    {
      "cell_type": "markdown",
      "metadata": {
        "id": "hT8DsNikcrdj",
        "colab_type": "text"
      },
      "source": [
        "### CatBoost"
      ]
    },
    {
      "cell_type": "code",
      "metadata": {
        "id": "Uok2Pt-Ecp-n",
        "colab_type": "code",
        "colab": {}
      },
      "source": [
        "# https://github.com/catboost/tutorials/blob/master/feature_selection/eval_tutorial.ipynb"
      ],
      "execution_count": 0,
      "outputs": []
    },
    {
      "cell_type": "markdown",
      "metadata": {
        "id": "ippBqvL_37xV",
        "colab_type": "text"
      },
      "source": [
        "## Oversample"
      ]
    },
    {
      "cell_type": "code",
      "metadata": {
        "id": "5sFCIw1039GH",
        "colab_type": "code",
        "colab": {}
      },
      "source": [
        "# https://www.kaggle.com/shahules/tackling-class-imbalance "
      ],
      "execution_count": 0,
      "outputs": []
    },
    {
      "cell_type": "markdown",
      "metadata": {
        "id": "RjW-2WKz4gSR",
        "colab_type": "text"
      },
      "source": [
        "## Feature elimination"
      ]
    },
    {
      "cell_type": "code",
      "metadata": {
        "id": "aVRIdUil4i6N",
        "colab_type": "code",
        "colab": {}
      },
      "source": [
        "# https://www.kaggle.com/nroman/recursive-feature-elimination\n",
        "# Lasso RegressionCV"
      ],
      "execution_count": 0,
      "outputs": []
    },
    {
      "cell_type": "markdown",
      "metadata": {
        "id": "Adg523ehdX8q",
        "colab_type": "text"
      },
      "source": [
        "## PCA for V features"
      ]
    },
    {
      "cell_type": "code",
      "metadata": {
        "id": "jQ7EHzAJda6m",
        "colab_type": "code",
        "colab": {}
      },
      "source": [
        "# https://www.kaggle.com/kabure/extensive-eda-and-modeling-xgb-hyperopt"
      ],
      "execution_count": 0,
      "outputs": []
    },
    {
      "cell_type": "markdown",
      "metadata": {
        "id": "qD_3wfoerWWz",
        "colab_type": "text"
      },
      "source": [
        "# Models"
      ]
    },
    {
      "cell_type": "markdown",
      "metadata": {
        "id": "qKqrgEMvrYPj",
        "colab_type": "text"
      },
      "source": [
        "## Prediction"
      ]
    },
    {
      "cell_type": "code",
      "metadata": {
        "id": "Ln7TLAWAvbON",
        "colab_type": "code",
        "colab": {}
      },
      "source": [
        "z = pd.concat([X_test['TransactionID'], pd.Series(np.zeros(X_test.shape[0]))], axis=1, keys=['TransactionID', 'isFraud'])"
      ],
      "execution_count": 0,
      "outputs": []
    },
    {
      "cell_type": "code",
      "metadata": {
        "id": "mixOzwcQEt8F",
        "colab_type": "code",
        "colab": {}
      },
      "source": [
        ""
      ],
      "execution_count": 0,
      "outputs": []
    },
    {
      "cell_type": "markdown",
      "metadata": {
        "id": "pxrUYDf4V-Rn",
        "colab_type": "text"
      },
      "source": [
        "## Models performace comparison"
      ]
    },
    {
      "cell_type": "code",
      "metadata": {
        "id": "YewIYLbiWBwZ",
        "colab_type": "code",
        "colab": {}
      },
      "source": [
        "# https://github.com/manifoldai/mf-eng-public/blob/master/notebooks/custom_loss_lightgbm.ipynb"
      ],
      "execution_count": 0,
      "outputs": []
    },
    {
      "cell_type": "code",
      "metadata": {
        "id": "KMJK0NrkLP2o",
        "colab_type": "code",
        "colab": {}
      },
      "source": [
        ""
      ],
      "execution_count": 0,
      "outputs": []
    },
    {
      "cell_type": "markdown",
      "metadata": {
        "id": "3al-OOOoM7cG",
        "colab_type": "text"
      },
      "source": [
        "# Submission"
      ]
    },
    {
      "cell_type": "code",
      "metadata": {
        "colab_type": "code",
        "outputId": "3f4bd4be-5167-4541-fb86-e24dfd0d1ed0",
        "id": "oLiaM-lWMthO",
        "colab": {
          "base_uri": "https://localhost:8080/",
          "height": 67
        }
      },
      "source": [
        "# Submit base model to lb\n",
        "# --------------------------------------------------------------------------------------------- #\n",
        "y_test = bst.predict(X_test)\n",
        "submission = np.vstack([y_test_id['TransactionID'], y_test])\n",
        "submission = pd.DataFrame(submission.T, columns=['TransactionID', 'isFraud'])\n",
        "submission['TransactionID'] = submission['TransactionID'].astype(int) \n",
        "submission.to_csv(f'{root_path}submission.csv', index=False)\n",
        "!kaggle competitions submit -c ieee-fraud-detection -f '{root_path}submission.csv' -m \"Base model\"\n",
        "# --------------------------------------------------------------------------------------------- #"
      ],
      "execution_count": 0,
      "outputs": [
        {
          "output_type": "stream",
          "text": [
            "Warning: Looks like you're using an outdated API Version, please consider updating (server 1.5.6 / client 1.5.4)\n",
            "100% 13.9M/13.9M [00:02<00:00, 7.21MB/s]\n",
            "Successfully submitted to IEEE-CIS Fraud Detection"
          ],
          "name": "stdout"
        }
      ]
    },
    {
      "cell_type": "markdown",
      "metadata": {
        "id": "6y7uk_U1OCt_",
        "colab_type": "text"
      },
      "source": [
        "# Save Data"
      ]
    },
    {
      "cell_type": "code",
      "metadata": {
        "id": "v-Md_juAAjC9",
        "colab_type": "code",
        "outputId": "722bb4e4-840b-4511-f211-9d33a9e5fccd",
        "colab": {
          "base_uri": "https://localhost:8080/",
          "height": 51
        }
      },
      "source": [
        "%%time\n",
        "# SAVE\n",
        "# ------------------------------------------------- #\n",
        "cat_cols = pd.Series(cat_cols)\n",
        "number_cols = pd.Series(number_cols)\n",
        "cat_cols.to_csv(f'{root_path}cat_cols.csv')\n",
        "number_cols.to_csv(f'{root_path}number_cols.csv')\n",
        "y_train.to_csv(f'{root_path}y_train.csv')\n",
        "X_train.to_csv(f'{root_path}x_train.csv')\n",
        "X_test.to_csv(f'{root_path}x_test.csv')\n",
        "# ------------------------------------------------- #"
      ],
      "execution_count": 32,
      "outputs": [
        {
          "output_type": "stream",
          "text": [
            "CPU times: user 7min 23s, sys: 5.03 s, total: 7min 28s\n",
            "Wall time: 7min 40s\n"
          ],
          "name": "stdout"
        }
      ]
    }
  ]
}